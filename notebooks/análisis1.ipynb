{
 "cells": [
  {
   "cell_type": "markdown",
   "id": "0d5eae83-3d65-485d-b520-4041cb1e98a1",
   "metadata": {},
   "source": [
    "# Análisis dataset gob.bo\n",
    "\n",
    "Analizando Datos de trámites del portal único de trámites de Bolivia. Datos obtenidos por web scraping."
   ]
  },
  {
   "cell_type": "code",
   "execution_count": 84,
   "id": "af7dbc07-115f-4de5-b928-0e1eaf31cd19",
   "metadata": {
    "scrolled": true
   },
   "outputs": [
    {
     "data": {
      "text/html": [
       "<div>\n",
       "<style scoped>\n",
       "    .dataframe tbody tr th:only-of-type {\n",
       "        vertical-align: middle;\n",
       "    }\n",
       "\n",
       "    .dataframe tbody tr th {\n",
       "        vertical-align: top;\n",
       "    }\n",
       "\n",
       "    .dataframe thead th {\n",
       "        text-align: right;\n",
       "    }\n",
       "</style>\n",
       "<table border=\"1\" class=\"dataframe\">\n",
       "  <thead>\n",
       "    <tr style=\"text-align: right;\">\n",
       "      <th></th>\n",
       "      <th>titulo</th>\n",
       "      <th>institucion</th>\n",
       "      <th>descripcion</th>\n",
       "      <th>contacto</th>\n",
       "      <th>web</th>\n",
       "      <th>es_presencial</th>\n",
       "      <th>es_en_linea</th>\n",
       "      <th>requisitos</th>\n",
       "      <th>procedimiento</th>\n",
       "      <th>num_ubicaciones</th>\n",
       "      <th>...</th>\n",
       "      <th>costo_formas</th>\n",
       "      <th>costo_conceptos</th>\n",
       "      <th>costo_ctas_bancarias</th>\n",
       "      <th>calificacion</th>\n",
       "      <th>url</th>\n",
       "      <th>categoria</th>\n",
       "      <th>duracion</th>\n",
       "      <th>marco_legal</th>\n",
       "      <th>costo_bancos</th>\n",
       "      <th>horarios_atencion</th>\n",
       "    </tr>\n",
       "  </thead>\n",
       "  <tbody>\n",
       "    <tr>\n",
       "      <th>0</th>\n",
       "      <td>DECLARACIONES JURADAS - SIAT EN LÍNEA</td>\n",
       "      <td>Servicio de Impuestos Nacionales - SIN</td>\n",
       "      <td>Facilitar al contribuyente el cumplimiento de ...</td>\n",
       "      <td>informaciontributaria@impuestos.gob.bo</td>\n",
       "      <td>https://www.impuestos.gob.bo/</td>\n",
       "      <td>0</td>\n",
       "      <td>1</td>\n",
       "      <td>REQUISITOS\\nContar con las credenciales de acc...</td>\n",
       "      <td>PROCEDIMIENTO\\nIngresar al siguiente enlace: h...</td>\n",
       "      <td>0</td>\n",
       "      <td>...</td>\n",
       "      <td>NaN</td>\n",
       "      <td>NaN</td>\n",
       "      <td>NaN</td>\n",
       "      <td>4</td>\n",
       "      <td>https://www.gob.bo/tramite/851</td>\n",
       "      <td>Impuestos</td>\n",
       "      <td>NaN</td>\n",
       "      <td>NaN</td>\n",
       "      <td>NaN</td>\n",
       "      <td>NaN</td>\n",
       "    </tr>\n",
       "    <tr>\n",
       "      <th>1</th>\n",
       "      <td>INSCRIPCIÓN AL RÉGIMEN DE REINTEGRO EN EFECTIV...</td>\n",
       "      <td>Servicio de Impuestos Nacionales - SIN</td>\n",
       "      <td>El Régimen de Reintegro del IVA (Re-IVA), alca...</td>\n",
       "      <td>informaciontributaria@impuestos.gob.bo</td>\n",
       "      <td>https://www.impuestos.gob.bo/</td>\n",
       "      <td>0</td>\n",
       "      <td>1</td>\n",
       "      <td>REQUISITOS\\nCedula de Identidad vigente.\\nN° d...</td>\n",
       "      <td>PROCEDIMIENTO\\nIngresar al siguiente enlace pa...</td>\n",
       "      <td>0</td>\n",
       "      <td>...</td>\n",
       "      <td>NaN</td>\n",
       "      <td>NaN</td>\n",
       "      <td>NaN</td>\n",
       "      <td>3</td>\n",
       "      <td>https://www.gob.bo/tramite/2652</td>\n",
       "      <td>Impuestos</td>\n",
       "      <td>NaN</td>\n",
       "      <td>Ley 1355</td>\n",
       "      <td>NaN</td>\n",
       "      <td>NaN</td>\n",
       "    </tr>\n",
       "    <tr>\n",
       "      <th>2</th>\n",
       "      <td>REGISTRO AL PADRÓN NACIONAL DE CONTRIBUYENTES</td>\n",
       "      <td>Servicio de Impuestos Nacionales - SIN</td>\n",
       "      <td>Las Personas Naturales y Jurídicas que efectúe...</td>\n",
       "      <td>informaciontributaria@impuestos.gob.bo</td>\n",
       "      <td>https://www.impuestos.gob.bo/</td>\n",
       "      <td>0</td>\n",
       "      <td>1</td>\n",
       "      <td>REQUISITOS INSCRIPCIÓN A TRAVÉS DEL SIAT EN LÍ...</td>\n",
       "      <td>PROCEDIMIENTO DE INSCRIPCIÓN\\nIngresar al sigu...</td>\n",
       "      <td>0</td>\n",
       "      <td>...</td>\n",
       "      <td>NaN</td>\n",
       "      <td>NaN</td>\n",
       "      <td>NaN</td>\n",
       "      <td>3</td>\n",
       "      <td>https://www.gob.bo/tramite/1367</td>\n",
       "      <td>Impuestos</td>\n",
       "      <td>NaN</td>\n",
       "      <td>NaN</td>\n",
       "      <td>NaN</td>\n",
       "      <td>NaN</td>\n",
       "    </tr>\n",
       "    <tr>\n",
       "      <th>3</th>\n",
       "      <td>INACTIVACIÓN DEL NIT</td>\n",
       "      <td>Servicio de Impuestos Nacionales - SIN</td>\n",
       "      <td>Procedimiento para inactivar el NIT</td>\n",
       "      <td>informaciontributaria@impuestos.gob.bo</td>\n",
       "      <td>https://www.impuestos.gob.bo/</td>\n",
       "      <td>0</td>\n",
       "      <td>1</td>\n",
       "      <td>REQUISITOS\\nContar con las credenciales de acc...</td>\n",
       "      <td>PRODECIMIENTO\\nIngresar al siguiente enlace ht...</td>\n",
       "      <td>0</td>\n",
       "      <td>...</td>\n",
       "      <td>NaN</td>\n",
       "      <td>NaN</td>\n",
       "      <td>NaN</td>\n",
       "      <td>3</td>\n",
       "      <td>https://www.gob.bo/tramite/2650</td>\n",
       "      <td>Impuestos</td>\n",
       "      <td>NaN</td>\n",
       "      <td>RND 10-0009-11</td>\n",
       "      <td>NaN</td>\n",
       "      <td>NaN</td>\n",
       "    </tr>\n",
       "    <tr>\n",
       "      <th>4</th>\n",
       "      <td>VERIFICADOR DE FACTURAS</td>\n",
       "      <td>Servicio de Impuestos Nacionales - SIN</td>\n",
       "      <td>Herramienta habilitada para verificar si las f...</td>\n",
       "      <td>informaciontributaria@impuestos.gob.bo</td>\n",
       "      <td>https://www.impuestos.gob.bo/</td>\n",
       "      <td>0</td>\n",
       "      <td>1</td>\n",
       "      <td>REQUISITO\\nContar la factura original.</td>\n",
       "      <td>PROCEDIMIENTO\\nIngresar al siguiente enlace ht...</td>\n",
       "      <td>0</td>\n",
       "      <td>...</td>\n",
       "      <td>NaN</td>\n",
       "      <td>NaN</td>\n",
       "      <td>NaN</td>\n",
       "      <td>4</td>\n",
       "      <td>https://www.gob.bo/tramite/2654</td>\n",
       "      <td>Impuestos</td>\n",
       "      <td>NaN</td>\n",
       "      <td>NaN</td>\n",
       "      <td>NaN</td>\n",
       "      <td>NaN</td>\n",
       "    </tr>\n",
       "    <tr>\n",
       "      <th>...</th>\n",
       "      <td>...</td>\n",
       "      <td>...</td>\n",
       "      <td>...</td>\n",
       "      <td>...</td>\n",
       "      <td>...</td>\n",
       "      <td>...</td>\n",
       "      <td>...</td>\n",
       "      <td>...</td>\n",
       "      <td>...</td>\n",
       "      <td>...</td>\n",
       "      <td>...</td>\n",
       "      <td>...</td>\n",
       "      <td>...</td>\n",
       "      <td>...</td>\n",
       "      <td>...</td>\n",
       "      <td>...</td>\n",
       "      <td>...</td>\n",
       "      <td>...</td>\n",
       "      <td>...</td>\n",
       "      <td>...</td>\n",
       "      <td>...</td>\n",
       "    </tr>\n",
       "    <tr>\n",
       "      <th>1777</th>\n",
       "      <td>PERMISO ESPECIAL DE CIRCULACION POR EXCESO DE ...</td>\n",
       "      <td>Administradora Boliviana de Carreteras - ABC</td>\n",
       "      <td>Obtencion de permiso especial para transitar c...</td>\n",
       "      <td>wgutierrez@abc.gob.bo</td>\n",
       "      <td>www.abc.gob.bo</td>\n",
       "      <td>1</td>\n",
       "      <td>0</td>\n",
       "      <td>llenado de formulario\\npoliza de buena ejecuci...</td>\n",
       "      <td>NaN</td>\n",
       "      <td>1</td>\n",
       "      <td>...</td>\n",
       "      <td>NaN</td>\n",
       "      <td>NaN</td>\n",
       "      <td>NaN</td>\n",
       "      <td>0</td>\n",
       "      <td>https://www.gob.bo/tramite/291</td>\n",
       "      <td>Transporte</td>\n",
       "      <td>NaN</td>\n",
       "      <td>Decreto Supremo Nº 25629, 24 de diciembre de 1999</td>\n",
       "      <td>NaN</td>\n",
       "      <td>08:00 - 18:00</td>\n",
       "    </tr>\n",
       "    <tr>\n",
       "      <th>1778</th>\n",
       "      <td>PERMISO DE CIURCULACION POR EXCESO DE DIMENSIONES</td>\n",
       "      <td>Administradora Boliviana de Carreteras - ABC</td>\n",
       "      <td>Obtencion de permiso para circular con exceso ...</td>\n",
       "      <td>wgutierrez@abc.gob.bo</td>\n",
       "      <td>www.abc.gob.bo</td>\n",
       "      <td>1</td>\n",
       "      <td>0</td>\n",
       "      <td>Nota Dirigida al Gerente Regional (Mencionando...</td>\n",
       "      <td>Presentar todos los requisitos en ventanilla ú...</td>\n",
       "      <td>9</td>\n",
       "      <td>...</td>\n",
       "      <td>NaN</td>\n",
       "      <td>NaN</td>\n",
       "      <td>NaN</td>\n",
       "      <td>0</td>\n",
       "      <td>https://www.gob.bo/tramite/296</td>\n",
       "      <td>Transporte</td>\n",
       "      <td>3 dias</td>\n",
       "      <td>Decreto Supremo Nº 25629, 24 de diciembre de 1999</td>\n",
       "      <td>NaN</td>\n",
       "      <td>08:00 - 18:00,08:00 - 18:00,08:00 - 18:00,08:0...</td>\n",
       "    </tr>\n",
       "    <tr>\n",
       "      <th>1779</th>\n",
       "      <td>USO DE BALANZA</td>\n",
       "      <td>Zona Franca Comercial e Industrial de Cobija -...</td>\n",
       "      <td>Brindar el servicio de pesaje a todos los tran...</td>\n",
       "      <td>MAEZOFRACOBIJA@GMAIL.COM</td>\n",
       "      <td>https://www.zofracobija.gob.bo/</td>\n",
       "      <td>1</td>\n",
       "      <td>0</td>\n",
       "      <td>Presentarse físicamente con el transporte en i...</td>\n",
       "      <td>Presentarse físicamente con el transporte en i...</td>\n",
       "      <td>0</td>\n",
       "      <td>...</td>\n",
       "      <td>Forma de pago: EFECTIVO</td>\n",
       "      <td>Concepto de pago: uso de balanza</td>\n",
       "      <td>-</td>\n",
       "      <td>0</td>\n",
       "      <td>https://www.gob.bo/tramite/2136</td>\n",
       "      <td>Transporte</td>\n",
       "      <td>20 minutos</td>\n",
       "      <td>R.A. Nº 20/2017</td>\n",
       "      <td>Banco Unión</td>\n",
       "      <td>NaN</td>\n",
       "    </tr>\n",
       "    <tr>\n",
       "      <th>1780</th>\n",
       "      <td>CERTIFICACIÓN DE NO SUSTANCIAS AGOTADORAS DE O...</td>\n",
       "      <td>Ministerio de Medio Ambiente y Agua - MINMAA</td>\n",
       "      <td>Otorgar la Certificación de No Sustancias Agot...</td>\n",
       "      <td>quinochavez@hotmail.com</td>\n",
       "      <td>www.mmaya.gob.bo</td>\n",
       "      <td>1</td>\n",
       "      <td>0</td>\n",
       "      <td>Carta de Solicitud de Certificación de No SAO,...</td>\n",
       "      <td>El solicitante se apersona a oficinas de la Co...</td>\n",
       "      <td>0</td>\n",
       "      <td>...</td>\n",
       "      <td>NaN</td>\n",
       "      <td>NaN</td>\n",
       "      <td>NaN</td>\n",
       "      <td>0</td>\n",
       "      <td>https://www.gob.bo/tramite/1515</td>\n",
       "      <td>Transporte</td>\n",
       "      <td>10 dias</td>\n",
       "      <td>Compendio de normativas de gestión ambiental d...</td>\n",
       "      <td>NaN</td>\n",
       "      <td>NaN</td>\n",
       "    </tr>\n",
       "    <tr>\n",
       "      <th>1781</th>\n",
       "      <td>REGISTRO DE EMPRESA EN EL ORGANISMO SECTORIAL ...</td>\n",
       "      <td>Ministerio de Medio Ambiente y Agua - MINMAA</td>\n",
       "      <td>Realizar el Registro de Empresa en el Organism...</td>\n",
       "      <td>quinochavez@hotmail.com</td>\n",
       "      <td>www.mmaya.gob.bo</td>\n",
       "      <td>1</td>\n",
       "      <td>0</td>\n",
       "      <td>Carta de Solicitud de Registro de Empresa, dir...</td>\n",
       "      <td>El solicitante se apersona a oficinas de la Co...</td>\n",
       "      <td>0</td>\n",
       "      <td>...</td>\n",
       "      <td>NaN</td>\n",
       "      <td>NaN</td>\n",
       "      <td>NaN</td>\n",
       "      <td>0</td>\n",
       "      <td>https://www.gob.bo/tramite/1517</td>\n",
       "      <td>Transporte</td>\n",
       "      <td>10 dias</td>\n",
       "      <td>Compendio de normativas de gestión ambiental d...</td>\n",
       "      <td>NaN</td>\n",
       "      <td>NaN</td>\n",
       "    </tr>\n",
       "  </tbody>\n",
       "</table>\n",
       "<p>1782 rows × 26 columns</p>\n",
       "</div>"
      ],
      "text/plain": [
       "                                                 titulo  \\\n",
       "0                 DECLARACIONES JURADAS - SIAT EN LÍNEA   \n",
       "1     INSCRIPCIÓN AL RÉGIMEN DE REINTEGRO EN EFECTIV...   \n",
       "2         REGISTRO AL PADRÓN NACIONAL DE CONTRIBUYENTES   \n",
       "3                                  INACTIVACIÓN DEL NIT   \n",
       "4                               VERIFICADOR DE FACTURAS   \n",
       "...                                                 ...   \n",
       "1777  PERMISO ESPECIAL DE CIRCULACION POR EXCESO DE ...   \n",
       "1778  PERMISO DE CIURCULACION POR EXCESO DE DIMENSIONES   \n",
       "1779                                     USO DE BALANZA   \n",
       "1780  CERTIFICACIÓN DE NO SUSTANCIAS AGOTADORAS DE O...   \n",
       "1781  REGISTRO DE EMPRESA EN EL ORGANISMO SECTORIAL ...   \n",
       "\n",
       "                                            institucion  \\\n",
       "0                Servicio de Impuestos Nacionales - SIN   \n",
       "1                Servicio de Impuestos Nacionales - SIN   \n",
       "2                Servicio de Impuestos Nacionales - SIN   \n",
       "3                Servicio de Impuestos Nacionales - SIN   \n",
       "4                Servicio de Impuestos Nacionales - SIN   \n",
       "...                                                 ...   \n",
       "1777       Administradora Boliviana de Carreteras - ABC   \n",
       "1778       Administradora Boliviana de Carreteras - ABC   \n",
       "1779  Zona Franca Comercial e Industrial de Cobija -...   \n",
       "1780       Ministerio de Medio Ambiente y Agua - MINMAA   \n",
       "1781       Ministerio de Medio Ambiente y Agua - MINMAA   \n",
       "\n",
       "                                            descripcion  \\\n",
       "0     Facilitar al contribuyente el cumplimiento de ...   \n",
       "1     El Régimen de Reintegro del IVA (Re-IVA), alca...   \n",
       "2     Las Personas Naturales y Jurídicas que efectúe...   \n",
       "3                   Procedimiento para inactivar el NIT   \n",
       "4     Herramienta habilitada para verificar si las f...   \n",
       "...                                                 ...   \n",
       "1777  Obtencion de permiso especial para transitar c...   \n",
       "1778  Obtencion de permiso para circular con exceso ...   \n",
       "1779  Brindar el servicio de pesaje a todos los tran...   \n",
       "1780  Otorgar la Certificación de No Sustancias Agot...   \n",
       "1781  Realizar el Registro de Empresa en el Organism...   \n",
       "\n",
       "                                    contacto                              web  \\\n",
       "0     informaciontributaria@impuestos.gob.bo    https://www.impuestos.gob.bo/   \n",
       "1     informaciontributaria@impuestos.gob.bo    https://www.impuestos.gob.bo/   \n",
       "2     informaciontributaria@impuestos.gob.bo    https://www.impuestos.gob.bo/   \n",
       "3     informaciontributaria@impuestos.gob.bo    https://www.impuestos.gob.bo/   \n",
       "4     informaciontributaria@impuestos.gob.bo    https://www.impuestos.gob.bo/   \n",
       "...                                      ...                              ...   \n",
       "1777                   wgutierrez@abc.gob.bo                   www.abc.gob.bo   \n",
       "1778                   wgutierrez@abc.gob.bo                   www.abc.gob.bo   \n",
       "1779                MAEZOFRACOBIJA@GMAIL.COM  https://www.zofracobija.gob.bo/   \n",
       "1780                 quinochavez@hotmail.com                 www.mmaya.gob.bo   \n",
       "1781                 quinochavez@hotmail.com                 www.mmaya.gob.bo   \n",
       "\n",
       "      es_presencial  es_en_linea  \\\n",
       "0                 0            1   \n",
       "1                 0            1   \n",
       "2                 0            1   \n",
       "3                 0            1   \n",
       "4                 0            1   \n",
       "...             ...          ...   \n",
       "1777              1            0   \n",
       "1778              1            0   \n",
       "1779              1            0   \n",
       "1780              1            0   \n",
       "1781              1            0   \n",
       "\n",
       "                                             requisitos  \\\n",
       "0     REQUISITOS\\nContar con las credenciales de acc...   \n",
       "1     REQUISITOS\\nCedula de Identidad vigente.\\nN° d...   \n",
       "2     REQUISITOS INSCRIPCIÓN A TRAVÉS DEL SIAT EN LÍ...   \n",
       "3     REQUISITOS\\nContar con las credenciales de acc...   \n",
       "4                REQUISITO\\nContar la factura original.   \n",
       "...                                                 ...   \n",
       "1777  llenado de formulario\\npoliza de buena ejecuci...   \n",
       "1778  Nota Dirigida al Gerente Regional (Mencionando...   \n",
       "1779  Presentarse físicamente con el transporte en i...   \n",
       "1780  Carta de Solicitud de Certificación de No SAO,...   \n",
       "1781  Carta de Solicitud de Registro de Empresa, dir...   \n",
       "\n",
       "                                          procedimiento  num_ubicaciones  ...  \\\n",
       "0     PROCEDIMIENTO\\nIngresar al siguiente enlace: h...                0  ...   \n",
       "1     PROCEDIMIENTO\\nIngresar al siguiente enlace pa...                0  ...   \n",
       "2     PROCEDIMIENTO DE INSCRIPCIÓN\\nIngresar al sigu...                0  ...   \n",
       "3     PRODECIMIENTO\\nIngresar al siguiente enlace ht...                0  ...   \n",
       "4     PROCEDIMIENTO\\nIngresar al siguiente enlace ht...                0  ...   \n",
       "...                                                 ...              ...  ...   \n",
       "1777                                                NaN                1  ...   \n",
       "1778  Presentar todos los requisitos en ventanilla ú...                9  ...   \n",
       "1779  Presentarse físicamente con el transporte en i...                0  ...   \n",
       "1780  El solicitante se apersona a oficinas de la Co...                0  ...   \n",
       "1781  El solicitante se apersona a oficinas de la Co...                0  ...   \n",
       "\n",
       "                 costo_formas                   costo_conceptos  \\\n",
       "0                         NaN                               NaN   \n",
       "1                         NaN                               NaN   \n",
       "2                         NaN                               NaN   \n",
       "3                         NaN                               NaN   \n",
       "4                         NaN                               NaN   \n",
       "...                       ...                               ...   \n",
       "1777                      NaN                               NaN   \n",
       "1778                      NaN                               NaN   \n",
       "1779  Forma de pago: EFECTIVO  Concepto de pago: uso de balanza   \n",
       "1780                      NaN                               NaN   \n",
       "1781                      NaN                               NaN   \n",
       "\n",
       "     costo_ctas_bancarias calificacion                              url  \\\n",
       "0                     NaN            4   https://www.gob.bo/tramite/851   \n",
       "1                     NaN            3  https://www.gob.bo/tramite/2652   \n",
       "2                     NaN            3  https://www.gob.bo/tramite/1367   \n",
       "3                     NaN            3  https://www.gob.bo/tramite/2650   \n",
       "4                     NaN            4  https://www.gob.bo/tramite/2654   \n",
       "...                   ...          ...                              ...   \n",
       "1777                  NaN            0   https://www.gob.bo/tramite/291   \n",
       "1778                  NaN            0   https://www.gob.bo/tramite/296   \n",
       "1779                    -            0  https://www.gob.bo/tramite/2136   \n",
       "1780                  NaN            0  https://www.gob.bo/tramite/1515   \n",
       "1781                  NaN            0  https://www.gob.bo/tramite/1517   \n",
       "\n",
       "       categoria    duracion  \\\n",
       "0      Impuestos         NaN   \n",
       "1      Impuestos         NaN   \n",
       "2      Impuestos         NaN   \n",
       "3      Impuestos         NaN   \n",
       "4      Impuestos         NaN   \n",
       "...          ...         ...   \n",
       "1777  Transporte         NaN   \n",
       "1778  Transporte      3 dias   \n",
       "1779  Transporte  20 minutos   \n",
       "1780  Transporte     10 dias   \n",
       "1781  Transporte     10 dias   \n",
       "\n",
       "                                            marco_legal costo_bancos  \\\n",
       "0                                                   NaN          NaN   \n",
       "1                                              Ley 1355          NaN   \n",
       "2                                                   NaN          NaN   \n",
       "3                                        RND 10-0009-11          NaN   \n",
       "4                                                   NaN          NaN   \n",
       "...                                                 ...          ...   \n",
       "1777  Decreto Supremo Nº 25629, 24 de diciembre de 1999          NaN   \n",
       "1778  Decreto Supremo Nº 25629, 24 de diciembre de 1999          NaN   \n",
       "1779                                    R.A. Nº 20/2017  Banco Unión   \n",
       "1780  Compendio de normativas de gestión ambiental d...          NaN   \n",
       "1781  Compendio de normativas de gestión ambiental d...          NaN   \n",
       "\n",
       "                                      horarios_atencion  \n",
       "0                                                   NaN  \n",
       "1                                                   NaN  \n",
       "2                                                   NaN  \n",
       "3                                                   NaN  \n",
       "4                                                   NaN  \n",
       "...                                                 ...  \n",
       "1777                                      08:00 - 18:00  \n",
       "1778  08:00 - 18:00,08:00 - 18:00,08:00 - 18:00,08:0...  \n",
       "1779                                                NaN  \n",
       "1780                                                NaN  \n",
       "1781                                                NaN  \n",
       "\n",
       "[1782 rows x 26 columns]"
      ]
     },
     "execution_count": 84,
     "metadata": {},
     "output_type": "execute_result"
    }
   ],
   "source": [
    "import pandas as pd\n",
    "import numpy as np\n",
    "\n",
    "df = pd.read_csv('../data/gobbo_tramites_pre.csv', encoding='utf-8', sep=\",\" )\n",
    "df"
   ]
  },
  {
   "cell_type": "code",
   "execution_count": 85,
   "id": "01630033-d880-4442-b820-f1ec1d844cfb",
   "metadata": {},
   "outputs": [
    {
     "data": {
      "text/plain": [
       "Templates configuration\n",
       "-----------------------\n",
       "    Default template: 'plotly'\n",
       "    Available templates:\n",
       "        ['ggplot2', 'seaborn', 'simple_white', 'plotly',\n",
       "         'plotly_white', 'plotly_dark', 'presentation', 'xgridoff',\n",
       "         'ygridoff', 'gridon', 'none']"
      ]
     },
     "execution_count": 85,
     "metadata": {},
     "output_type": "execute_result"
    }
   ],
   "source": [
    "# temas \n",
    "import plotly.io as pio\n",
    "import plotly.express as px\n",
    "pio.templates"
   ]
  },
  {
   "cell_type": "code",
   "execution_count": 88,
   "id": "69b8fbef-7166-4b9b-99ef-1518f29ce2d6",
   "metadata": {},
   "outputs": [
    {
     "data": {
      "text/plain": [
       "(1268, 26)"
      ]
     },
     "execution_count": 88,
     "metadata": {},
     "output_type": "execute_result"
    }
   ],
   "source": [
    "# Eliminando duplicados\n",
    "df = df.drop_duplicates(subset=['titulo'], keep='last')\n",
    "df = df.drop_duplicates(subset=['url'], keep='last')\n",
    "df.shape"
   ]
  },
  {
   "cell_type": "markdown",
   "id": "cabd55b9-5735-462d-b1e4-0f715cbef4f0",
   "metadata": {},
   "source": [
    "## Tŕamites por institución"
   ]
  },
  {
   "cell_type": "code",
   "execution_count": 89,
   "id": "bf645c72-c085-4bf4-b845-0cef490915d2",
   "metadata": {},
   "outputs": [
    {
     "data": {
      "text/plain": [
       "array(['Servicio de Impuestos Nacionales - SIN',\n",
       "       'Autoridad de Impugnación Tributaria - AIT',\n",
       "       'Gobierno Autónomo Departamental de Cochabamba - GADC',\n",
       "       'Empresa Pùblica Departamental de Servicios Eléctricos Tarija SETAR - SETAR',\n",
       "       'Consejo de la Magistratura - CM',\n",
       "       'Agencia Estatal de Vivienda - AEVIVIENDA',\n",
       "       'Tribunal Departamental de Justicia de Santa Cruz - TDJ-SCZ',\n",
       "       'Ministerio de Obras Públicas, Servicios y Vivienda - MINOPSV',\n",
       "       'Consejo Nacional de Vivienda Policial - COVIPOL',\n",
       "       'Centro de Comunicaciones La Paz - CCLP',\n",
       "       'Ministerio de Culturas y Turismo - MINCULT',\n",
       "       'Autoridad de Desarrollo del Cine y Audiovisuales - ADECINE',\n",
       "       'Ministerio de Trabajo, Empleo y Previsión Social - MTEPS',\n",
       "       'Servicio Nacional de Propiedad Intelectual - SENAPI',\n",
       "       'Pro – Bolivia - PRO-BOL',\n",
       "       'Ministerio de Desarrollo Productivo y Economía Plural - MDPyEP',\n",
       "       'Servicio de Desarrollo de las Empresas Públicas Productivas - SEDEM',\n",
       "       'Ministerio\\xa0de\\xa0Desarrollo\\xa0Rural\\xa0y\\xa0Tierras - MDRyT',\n",
       "       'Servicio Nacional de Registro y Control de la Comercialización de Minerales y Metales - SENARECOM',\n",
       "       'Lotería Nacional de Beneficencia y Salubridad - loteria',\n",
       "       'Autoridad de Fiscalización del Juego - AJ',\n",
       "       'Autoridad de Fiscalización y Control de Pensiones y Seguros - APS',\n",
       "       'Servicio Nacional de Verificación de Exportaciones - SENAVEX',\n",
       "       'Aduana Nacional - AN',\n",
       "       'Institución Pública Desconcentrada de Pesca y Acuicultura “PACU” - PACU',\n",
       "       'Yacimientos\\xa0Petrolíferos\\xa0Fiscales\\xa0Bolivianos - YPFB',\n",
       "       'Fondo de Desarrollo del Sistema Financiero y Apoyo al Sector Productivo - FONDESIF',\n",
       "       'Banco Central de Bolivia - BCB',\n",
       "       'Instituto Nacional de Innovación Agropecuaria y Forestal - INIAF',\n",
       "       'Mutual de Servicios al Policia - MUSERPOL',\n",
       "       'Empresa Pública Quipus - QUIPUS',\n",
       "       'Instituto Boliviano de Metrología - IBMETRO',\n",
       "       'Fondo de Financiamiento para la Minería - FOFIM',\n",
       "       'Instituto Boliviano de Normalizacion y Calidad - IBNORCA',\n",
       "       'Gobierno Autonomo Municipal de Trinidad - GAMT',\n",
       "       'Ministerio de Gobierno - MINGOB',\n",
       "       'Ministerio de Desarrollo Rural y Tierras - MINDRT',\n",
       "       'Ministerio de Educación de Bolivia - MINEDU',\n",
       "       'Instituto Plurinacional de Estudio de Lenguas y Culturas - IPELC',\n",
       "       'Comando General de la Policía Boliviana -',\n",
       "       'Dirección Departamental de Educación Tarija - DDE-TAR',\n",
       "       'Universidad Mayor de San Simón - UMSS',\n",
       "       'Universidad Técnica de Oruro - UTO',\n",
       "       'Universidad Amazónica de Pando - UAP',\n",
       "       'Universidad Autónoma Tomás Frías - UATF',\n",
       "       'Dirección Departamental de Educación La Paz - DDE-LPZ',\n",
       "       'Comité Ejecutivo de la Universidad Boliviana - CEUB',\n",
       "       'Universidad Pública de El Alto (UPEA) - UPEA',\n",
       "       'Escuela de Gestión Pública Plurinacional - EGPP',\n",
       "       'Universidad Católica Boliviana San Pablo - U.C.B.',\n",
       "       'Universidad Mayor de San Andrés - UMSA',\n",
       "       'Dirección Departamental de Educación Cochabamba - DDE–CBB',\n",
       "       'Dirección Departamental de Educación Chuquisaca - DDE-CHU',\n",
       "       'MINISTERIO DE EDUCACIÓN - MINEDU',\n",
       "       'Universidad Indígena Boliviana Quechua Casimiro Huanca - UNIBOL-CH',\n",
       "       'Dirección General de Migración - DIGEMIG',\n",
       "       'Universidad Mayor Real y Pontificia de San Francisco Xavier - UMSFX',\n",
       "       'Universidad Autónoma Gabriel René Moreno - UAGRM',\n",
       "       'Gestora Pública de la Seguridad Social de Largo Plazo - GESTORA',\n",
       "       'Servicio Plurinacional de Registro de Comercio - SEPREC',\n",
       "       'Servicio Nacional de Patrimonio del Estado - SENAPE',\n",
       "       'Administración de Servicios Portuarios – Bolivia - ASP-B',\n",
       "       'Contraloría General del Estado - CGE',\n",
       "       'Autoridad de Fiscalización y Control de Cooperativas - AFCOOP',\n",
       "       'Servicio Nacional del Sistema de Reparto - SENASIR',\n",
       "       'Autoridad de Fiscalización de Empresas - AEMP',\n",
       "       'Fondo Nacional de Desarrollo Regional - FNDR',\n",
       "       'Agencia para el Desarrollo de la Sociedad de la Información en Bolivia - ADSIB',\n",
       "       'Unidad de Proyectos Especiales - UPRE',\n",
       "       'Instituto Nacional de Estadística - INE',\n",
       "       'Entidad Pública Desconcentrada Unidad Ejecutora de Pozos - UE-Pozos',\n",
       "       'Autoridad de Regulación y Fiscalización de Telecomunicaciones y Transportes - ATT',\n",
       "       'Gobierno Autónomo Municipal de Oruro - ORU',\n",
       "       'Instituto Geográfico Militar - IGM',\n",
       "       'Registro Internacional Boliviano de Buques - RIBB',\n",
       "       'Servicio Nacional de Aerofotogrametría - SNAF',\n",
       "       'Autoridad Jurisdiccional Administrativa Minera - AJAM',\n",
       "       'Corporación Minera de Bolivia - COMIBOL',\n",
       "       'Gobierno Autónomo Municipal de Villa Tunari - TUN',\n",
       "       'Ministerio de Deportes - MINDEP',\n",
       "       'Servicio General de Identificación Personal - SEGIP',\n",
       "       'Agencia de Gobierno Electrónico y Tecnologías de la Información y Comunicación - AGETIC',\n",
       "       'Autoridad de Supervisión del Sistema Financiero - ASFI',\n",
       "       'Servicio General de Licencias de Conducir - SEGELIC',\n",
       "       'Servicio Nacional de Meteorología e Hidrología - SENAMHI',\n",
       "       'Dirección Nacional del Servicio de Registro Cívico – SERECI - SERECI',\n",
       "       'Zona Franca Comercial e Industrial de Cobija - ZOFRACOBIJA',\n",
       "       'Ministerio de Justicia y Transparencia Institucional - MINJTI',\n",
       "       'Ministerio Público - Fiscalía General del Estado - MINPUB',\n",
       "       'Tribunal Supremo de Justicia - TSJ',\n",
       "       'Dirección del Notariado Plurinacional - DIRNOPLU',\n",
       "       'Tribunal Agroambiental -',\n",
       "       'Ministerio de la Presidencia - MINPRES',\n",
       "       'Ministerio de Defensa - MINDEF', 'Defensoría del Pueblo - DP',\n",
       "       'Autoridad de Fiscalización de Electricidad y Tecnología Nuclear - AETN',\n",
       "       'Fondo Nacional de Solidaridad y Equidad - FNSE - FNSE',\n",
       "       'Servicio Plurinacional de Defensa Pública - SEPDEP',\n",
       "       'Autoridad de Fiscalización y Control del Sistema Nacional de Salud - ASINSA',\n",
       "       'Ministerio de Medio Ambiente y Agua - MINMAA',\n",
       "       'Servicio Nacional de Riego (SENARI) - SENARI',\n",
       "       'Autoridad de Fiscalización y Control Social de Bosques y Tierras - ABT',\n",
       "       'Autoridad de Fiscalización y Control Social de Agua Potable y Saneamiento Básico - AAPS',\n",
       "       'Servicio Nacional de Hidrografía Naval - SNHN',\n",
       "       'Ministerio\\xa0de\\xa0Planificación\\xa0del\\xa0Desarrollo - MINPD',\n",
       "       'Seguro Social Universitario de Sucre - SSUSUC',\n",
       "       'Ministerio de Salud y Deportes - MSyD',\n",
       "       'Instituto Boliviano de la Ceguera - IBC',\n",
       "       'Agencia Estatal de Medicamentos y Tecnologías en Salud - AGEMED',\n",
       "       'Seguro Social Universitario de Potosí - SSUPTS',\n",
       "       'Programa Bono Juana Azurduy - BJA',\n",
       "       'Autoridad de Supervisión de la Seguridad Social de Corto Plazo - ASUSS',\n",
       "       'Seguro Social Universitario de Oruro - SSUORU',\n",
       "       'Escuela Nacional de Salud - ENS',\n",
       "       'Instituto Nacional de Salud Ocupacional - INSO',\n",
       "       'Seguro Social Universitario de Tarija - SSUTAR',\n",
       "       'Seguro Social Universitario de Cochabamba - SSUCBBA',\n",
       "       'Seguro Social Universitario de Beni - SSUBENI',\n",
       "       'Agencia Nacional de Hidrocarburos - ANH',\n",
       "       'Transportes Aéreos Bolivianos - TAB',\n",
       "       'Dirección General de Aeronáutica Civil - DGAC',\n",
       "       'Entidad Ejecutora de Conversión a Gas Natural Vehicular - EEC-GNV',\n",
       "       'Empresa Municipal de Áreas Verdes, Parques y Forestación - EMAV-S',\n",
       "       'Administradora Boliviana de Carreteras - ABC'], dtype=object)"
      ]
     },
     "execution_count": 89,
     "metadata": {},
     "output_type": "execute_result"
    }
   ],
   "source": [
    "df['institucion'].unique()"
   ]
  },
  {
   "cell_type": "markdown",
   "id": "09f24cd3-bb70-41d6-93bf-9117f6a3e3ab",
   "metadata": {},
   "source": [
    "Parece que muchos nombres de instituciones son distintos pero se refieren a la misma institución, por ejemplo:\n",
    "- Ministerio de Educación de Bolivia - MINEDU\n",
    "- MINISTERIO DE EDUCACIÓN - MINEDU\n",
    "\n",
    "Se va a mantener solamente un nombre."
   ]
  },
  {
   "cell_type": "code",
   "execution_count": 90,
   "id": "8b452672-39c1-4738-8d74-f2637420a335",
   "metadata": {},
   "outputs": [
    {
     "data": {
      "text/plain": [
       "array(['Servicio de Impuestos Nacionales - SIN',\n",
       "       'Autoridad de Impugnación Tributaria - AIT',\n",
       "       'Gobierno Autónomo Departamental de Cochabamba - GADC',\n",
       "       'Empresa Pùblica Departamental de Servicios Eléctricos Tarija SETAR - SETAR',\n",
       "       'Consejo de la Magistratura - CM',\n",
       "       'Agencia Estatal de Vivienda - AEVIVIENDA',\n",
       "       'Tribunal Departamental de Justicia de Santa Cruz - TDJ-SCZ',\n",
       "       'Ministerio de Obras Públicas, Servicios y Vivienda - MINOPSV',\n",
       "       'Consejo Nacional de Vivienda Policial - COVIPOL',\n",
       "       'Centro de Comunicaciones La Paz - CCLP',\n",
       "       'Ministerio de Culturas y Turismo - MINCULT',\n",
       "       'Autoridad de Desarrollo del Cine y Audiovisuales - ADECINE',\n",
       "       'Ministerio de Trabajo, Empleo y Previsión Social - MTEPS',\n",
       "       'Servicio Nacional de Propiedad Intelectual - SENAPI',\n",
       "       'Pro – Bolivia - PRO-BOL',\n",
       "       'Ministerio de Desarrollo Productivo y Economía Plural - MDPyEP',\n",
       "       'Servicio de Desarrollo de las Empresas Públicas Productivas - SEDEM',\n",
       "       'Ministerio de Desarrollo Rural y Tierras - MDRyT',\n",
       "       'Servicio Nacional de Registro y Control de la Comercialización de Minerales y Metales - SENARECOM',\n",
       "       'Lotería Nacional de Beneficencia y Salubridad - loteria',\n",
       "       'Autoridad de Fiscalización del Juego - AJ',\n",
       "       'Autoridad de Fiscalización y Control de Pensiones y Seguros - APS',\n",
       "       'Servicio Nacional de Verificación de Exportaciones - SENAVEX',\n",
       "       'Aduana Nacional - AN',\n",
       "       'Institución Pública Desconcentrada de Pesca y Acuicultura “PACU” - PACU',\n",
       "       'Yacimientos\\xa0Petrolíferos\\xa0Fiscales\\xa0Bolivianos - YPFB',\n",
       "       'Fondo de Desarrollo del Sistema Financiero y Apoyo al Sector Productivo - FONDESIF',\n",
       "       'Banco Central de Bolivia - BCB',\n",
       "       'Instituto Nacional de Innovación Agropecuaria y Forestal - INIAF',\n",
       "       'Mutual de Servicios al Policia - MUSERPOL',\n",
       "       'Empresa Pública Quipus - QUIPUS',\n",
       "       'Instituto Boliviano de Metrología - IBMETRO',\n",
       "       'Fondo de Financiamiento para la Minería - FOFIM',\n",
       "       'Instituto Boliviano de Normalizacion y Calidad - IBNORCA',\n",
       "       'Gobierno Autonomo Municipal de Trinidad - GAMT',\n",
       "       'Ministerio de Gobierno - MINGOB',\n",
       "       'Ministerio de Desarrollo Rural y Tierras - MINDRT',\n",
       "       'MINISTERIO DE EDUCACIÓN - MINEDU',\n",
       "       'Instituto Plurinacional de Estudio de Lenguas y Culturas - IPELC',\n",
       "       'Comando General de la Policía Boliviana -',\n",
       "       'Dirección Departamental de Educación Tarija - DDE-TAR',\n",
       "       'Universidad Mayor de San Simón - UMSS',\n",
       "       'Universidad Técnica de Oruro - UTO',\n",
       "       'Universidad Amazónica de Pando - UAP',\n",
       "       'Universidad Autónoma Tomás Frías - UATF',\n",
       "       'Dirección Departamental de Educación La Paz - DDE-LPZ',\n",
       "       'Comité Ejecutivo de la Universidad Boliviana - CEUB',\n",
       "       'Universidad Pública de El Alto (UPEA) - UPEA',\n",
       "       'Escuela de Gestión Pública Plurinacional - EGPP',\n",
       "       'Universidad Católica Boliviana San Pablo - U.C.B.',\n",
       "       'Universidad Mayor de San Andrés - UMSA',\n",
       "       'Dirección Departamental de Educación Cochabamba - DDE–CBB',\n",
       "       'Dirección Departamental de Educación Chuquisaca - DDE-CHU',\n",
       "       'Universidad Indígena Boliviana Quechua Casimiro Huanca - UNIBOL-CH',\n",
       "       'Dirección General de Migración - DIGEMIG',\n",
       "       'Universidad Mayor Real y Pontificia de San Francisco Xavier - UMSFX',\n",
       "       'Universidad Autónoma Gabriel René Moreno - UAGRM',\n",
       "       'Gestora Pública de la Seguridad Social de Largo Plazo - GESTORA',\n",
       "       'Servicio Plurinacional de Registro de Comercio - SEPREC',\n",
       "       'Servicio Nacional de Patrimonio del Estado - SENAPE',\n",
       "       'Administración de Servicios Portuarios – Bolivia - ASP-B',\n",
       "       'Contraloría General del Estado - CGE',\n",
       "       'Autoridad de Fiscalización y Control de Cooperativas - AFCOOP',\n",
       "       'Servicio Nacional del Sistema de Reparto - SENASIR',\n",
       "       'Autoridad de Fiscalización de Empresas - AEMP',\n",
       "       'Fondo Nacional de Desarrollo Regional - FNDR',\n",
       "       'Agencia para el Desarrollo de la Sociedad de la Información en Bolivia - ADSIB',\n",
       "       'Unidad de Proyectos Especiales - UPRE',\n",
       "       'Instituto Nacional de Estadística - INE',\n",
       "       'Entidad Pública Desconcentrada Unidad Ejecutora de Pozos - UE-Pozos',\n",
       "       'Autoridad de Regulación y Fiscalización de Telecomunicaciones y Transportes - ATT',\n",
       "       'Gobierno Autónomo Municipal de Oruro - ORU',\n",
       "       'Instituto Geográfico Militar - IGM',\n",
       "       'Registro Internacional Boliviano de Buques - RIBB',\n",
       "       'Servicio Nacional de Aerofotogrametría - SNAF',\n",
       "       'Autoridad Jurisdiccional Administrativa Minera - AJAM',\n",
       "       'Corporación Minera de Bolivia - COMIBOL',\n",
       "       'Gobierno Autónomo Municipal de Villa Tunari - TUN',\n",
       "       'Ministerio de Deportes - MINDEP',\n",
       "       'Servicio General de Identificación Personal - SEGIP',\n",
       "       'Agencia de Gobierno Electrónico y Tecnologías de la Información y Comunicación - AGETIC',\n",
       "       'Autoridad de Supervisión del Sistema Financiero - ASFI',\n",
       "       'Servicio General de Licencias de Conducir - SEGELIC',\n",
       "       'Servicio Nacional de Meteorología e Hidrología - SENAMHI',\n",
       "       'Dirección Nacional del Servicio de Registro Cívico – SERECI - SERECI',\n",
       "       'Zona Franca Comercial e Industrial de Cobija - ZOFRACOBIJA',\n",
       "       'Ministerio de Justicia y Transparencia Institucional - MINJTI',\n",
       "       'Ministerio Público - Fiscalía General del Estado - MINPUB',\n",
       "       'Tribunal Supremo de Justicia - TSJ',\n",
       "       'Dirección del Notariado Plurinacional - DIRNOPLU',\n",
       "       'Tribunal Agroambiental -',\n",
       "       'Ministerio de la Presidencia - MINPRES',\n",
       "       'Ministerio de Defensa - MINDEF', 'Defensoría del Pueblo - DP',\n",
       "       'Autoridad de Fiscalización de Electricidad y Tecnología Nuclear - AETN',\n",
       "       'Fondo Nacional de Solidaridad y Equidad - FNSE',\n",
       "       'Servicio Plurinacional de Defensa Pública - SEPDEP',\n",
       "       'Autoridad de Fiscalización y Control del Sistema Nacional de Salud - ASINSA',\n",
       "       'Ministerio de Medio Ambiente y Agua - MINMAA',\n",
       "       'Servicio Nacional de Riego (SENARI) - SENARI',\n",
       "       'Autoridad de Fiscalización y Control Social de Bosques y Tierras - ABT',\n",
       "       'Autoridad de Fiscalización y Control Social de Agua Potable y Saneamiento Básico - AAPS',\n",
       "       'Servicio Nacional de Hidrografía Naval - SNHN',\n",
       "       'Ministerio\\xa0de\\xa0Planificación\\xa0del\\xa0Desarrollo - MINPD',\n",
       "       'Seguro Social Universitario de Sucre - SSUSUC',\n",
       "       'Ministerio de Salud y Deportes - MSyD',\n",
       "       'Instituto Boliviano de la Ceguera - IBC',\n",
       "       'Agencia Estatal de Medicamentos y Tecnologías en Salud - AGEMED',\n",
       "       'Seguro Social Universitario de Potosí - SSUPTS',\n",
       "       'Programa Bono Juana Azurduy - BJA',\n",
       "       'Autoridad de Supervisión de la Seguridad Social de Corto Plazo - ASUSS',\n",
       "       'Seguro Social Universitario de Oruro - SSUORU',\n",
       "       'Escuela Nacional de Salud - ENS',\n",
       "       'Instituto Nacional de Salud Ocupacional - INSO',\n",
       "       'Seguro Social Universitario de Tarija - SSUTAR',\n",
       "       'Seguro Social Universitario de Cochabamba - SSUCBBA',\n",
       "       'Seguro Social Universitario de Beni - SSUBENI',\n",
       "       'Agencia Nacional de Hidrocarburos - ANH',\n",
       "       'Transportes Aéreos Bolivianos - TAB',\n",
       "       'Dirección General de Aeronáutica Civil - DGAC',\n",
       "       'Entidad Ejecutora de Conversión a Gas Natural Vehicular - EEC-GNV',\n",
       "       'Empresa Municipal de Áreas Verdes, Parques y Forestación - EMAV-S',\n",
       "       'Administradora Boliviana de Carreteras - ABC'], dtype=object)"
      ]
     },
     "execution_count": 90,
     "metadata": {},
     "output_type": "execute_result"
    }
   ],
   "source": [
    "nombres_mapa = {\n",
    "    'Ministerio de Educación de Bolivia - MINEDU': 'MINISTERIO DE EDUCACIÓN - MINEDU',\n",
    "    'Ministerio\\xa0de\\xa0Desarrollo\\xa0Rural\\xa0y\\xa0Tierras - MDRyT': 'Ministerio de Desarrollo Rural y Tierras - MDRyT',\n",
    "    'Fondo Nacional de Solidaridad y Equidad - FNSE - FNSE': 'Fondo Nacional de Solidaridad y Equidad - FNSE'\n",
    "}\n",
    "\n",
    "\n",
    "def get_value_using_map(value, value_map):\n",
    "    if value_map.get(value, None) is not None:\n",
    "        return value_map[value]\n",
    "    return value\n",
    "        \n",
    "\n",
    "df['institucion'] = df['institucion'].apply(lambda x: get_value_using_map(x, nombres_mapa))\n",
    "df['institucion'].unique()"
   ]
  },
  {
   "cell_type": "code",
   "execution_count": 91,
   "id": "1003de31-c0d1-4188-a01d-0665c5ca4e35",
   "metadata": {},
   "outputs": [
    {
     "data": {
      "text/plain": [
       "institucion\n",
       "MINISTERIO DE EDUCACIÓN - MINEDU                                               165\n",
       "Gobierno Autonomo Municipal de Trinidad - GAMT                                  71\n",
       "Gobierno Autónomo Departamental de Cochabamba - GADC                            66\n",
       "Servicio Nacional de Propiedad Intelectual - SENAPI                             65\n",
       "Servicio Plurinacional de Registro de Comercio - SEPREC                         58\n",
       "                                                                              ... \n",
       "Autoridad de Fiscalización y Control de Pensiones y Seguros - APS                1\n",
       "Transportes Aéreos Bolivianos - TAB                                              1\n",
       "Autoridad de Fiscalización y Control del Sistema Nacional de Salud - ASINSA      1\n",
       "Unidad de Proyectos Especiales - UPRE                                            1\n",
       "Universidad Autónoma Gabriel René Moreno - UAGRM                                 1\n",
       "Name: titulo, Length: 123, dtype: int64"
      ]
     },
     "execution_count": 91,
     "metadata": {},
     "output_type": "execute_result"
    }
   ],
   "source": [
    "df.groupby('institucion').count()['titulo'].sort_values(ascending=False)"
   ]
  },
  {
   "cell_type": "code",
   "execution_count": 92,
   "id": "33d75181-279b-408a-a595-56e39b385899",
   "metadata": {},
   "outputs": [
    {
     "data": {
      "application/vnd.plotly.v1+json": {
       "config": {
        "plotlyServerURL": "https://plot.ly"
       },
       "data": [
        {
         "alignmentgroup": "True",
         "cliponaxis": false,
         "hovertemplate": "x=%{x}<br>y=%{y}<br>color=%{marker.color}<extra></extra>",
         "legendgroup": "",
         "marker": {
          "color": [
           165,
           71,
           66,
           65,
           58,
           43,
           35,
           35,
           30,
           29,
           26,
           26,
           24,
           24,
           22,
           19,
           18,
           18,
           17,
           17,
           16,
           16
          ],
          "coloraxis": "coloraxis",
          "pattern": {
           "shape": ""
          }
         },
         "name": "",
         "offsetgroup": "",
         "orientation": "h",
         "showlegend": false,
         "textangle": 0,
         "textfont": {
          "size": 12
         },
         "textposition": "outside",
         "texttemplate": "%{x}",
         "type": "bar",
         "x": [
          165,
          71,
          66,
          65,
          58,
          43,
          35,
          35,
          30,
          29,
          26,
          26,
          24,
          24,
          22,
          19,
          18,
          18,
          17,
          17,
          16,
          16
         ],
         "xaxis": "x",
         "y": [
          "MINISTERIO DE EDUCACIÓN - MINEDU",
          "Gobierno Autonomo Municipal de Trinidad - GAMT",
          "Gobierno Autónomo Departamental de Cochabamba - GADC",
          "Servicio Nacional de Propiedad Intelectual - SENAPI",
          "Servicio Plurinacional de Registro de Comercio - SEPREC",
          "Dirección General de Migración - DIGEMIG",
          "Universidad Mayor de San Simón - UMSS",
          "Dirección Departamental de Educación Chuquisaca - DDE-CHU",
          "Universidad Mayor Real y Pontificia de San Francisco Xavier - UMSFX",
          "Universidad Católica Boliviana San Pablo - U.C.B.",
          "Dirección Departamental de Educación Tarija - DDE-TAR",
          "Universidad Técnica de Oruro - UTO",
          "Gestora Pública de la Seguridad Social de Largo Plazo - GESTORA",
          "Autoridad de Fiscalización y Control de Cooperativas - AFCOOP",
          "Comando General de la Policía Boliviana -",
          "Universidad Autónoma Tomás Frías - UATF",
          "Ministerio de Obras Públicas, Servicios y Vivienda - MINOPSV",
          "Ministerio de Defensa - MINDEF",
          "Ministerio de Justicia y Transparencia Institucional - MINJTI",
          "Servicio Nacional del Sistema de Reparto - SENASIR",
          "Dirección Nacional del Servicio de Registro Cívico – SERECI - SERECI",
          "Dirección General de Aeronáutica Civil - DGAC"
         ],
         "yaxis": "y"
        }
       ],
       "layout": {
        "autosize": true,
        "barmode": "relative",
        "coloraxis": {
         "colorbar": {
          "title": {
           "text": "color"
          }
         },
         "colorscale": [
          [
           0,
           "rgb(20,44,66)"
          ],
          [
           1,
           "rgb(90,179,244)"
          ]
         ],
         "showscale": false
        },
        "legend": {
         "tracegroupgap": 0
        },
        "plot_bgcolor": "rgba(0, 0, 0, 0)",
        "template": {
         "data": {
          "bar": [
           {
            "error_x": {
             "color": "rgb(51,51,51)"
            },
            "error_y": {
             "color": "rgb(51,51,51)"
            },
            "marker": {
             "line": {
              "color": "rgb(237,237,237)",
              "width": 0.5
             },
             "pattern": {
              "fillmode": "overlay",
              "size": 10,
              "solidity": 0.2
             }
            },
            "type": "bar"
           }
          ],
          "barpolar": [
           {
            "marker": {
             "line": {
              "color": "rgb(237,237,237)",
              "width": 0.5
             },
             "pattern": {
              "fillmode": "overlay",
              "size": 10,
              "solidity": 0.2
             }
            },
            "type": "barpolar"
           }
          ],
          "carpet": [
           {
            "aaxis": {
             "endlinecolor": "rgb(51,51,51)",
             "gridcolor": "white",
             "linecolor": "white",
             "minorgridcolor": "white",
             "startlinecolor": "rgb(51,51,51)"
            },
            "baxis": {
             "endlinecolor": "rgb(51,51,51)",
             "gridcolor": "white",
             "linecolor": "white",
             "minorgridcolor": "white",
             "startlinecolor": "rgb(51,51,51)"
            },
            "type": "carpet"
           }
          ],
          "choropleth": [
           {
            "colorbar": {
             "outlinewidth": 0,
             "tickcolor": "rgb(237,237,237)",
             "ticklen": 6,
             "ticks": "inside"
            },
            "type": "choropleth"
           }
          ],
          "contour": [
           {
            "colorbar": {
             "outlinewidth": 0,
             "tickcolor": "rgb(237,237,237)",
             "ticklen": 6,
             "ticks": "inside"
            },
            "colorscale": [
             [
              0,
              "rgb(20,44,66)"
             ],
             [
              1,
              "rgb(90,179,244)"
             ]
            ],
            "type": "contour"
           }
          ],
          "contourcarpet": [
           {
            "colorbar": {
             "outlinewidth": 0,
             "tickcolor": "rgb(237,237,237)",
             "ticklen": 6,
             "ticks": "inside"
            },
            "type": "contourcarpet"
           }
          ],
          "heatmap": [
           {
            "colorbar": {
             "outlinewidth": 0,
             "tickcolor": "rgb(237,237,237)",
             "ticklen": 6,
             "ticks": "inside"
            },
            "colorscale": [
             [
              0,
              "rgb(20,44,66)"
             ],
             [
              1,
              "rgb(90,179,244)"
             ]
            ],
            "type": "heatmap"
           }
          ],
          "heatmapgl": [
           {
            "colorbar": {
             "outlinewidth": 0,
             "tickcolor": "rgb(237,237,237)",
             "ticklen": 6,
             "ticks": "inside"
            },
            "colorscale": [
             [
              0,
              "rgb(20,44,66)"
             ],
             [
              1,
              "rgb(90,179,244)"
             ]
            ],
            "type": "heatmapgl"
           }
          ],
          "histogram": [
           {
            "marker": {
             "pattern": {
              "fillmode": "overlay",
              "size": 10,
              "solidity": 0.2
             }
            },
            "type": "histogram"
           }
          ],
          "histogram2d": [
           {
            "colorbar": {
             "outlinewidth": 0,
             "tickcolor": "rgb(237,237,237)",
             "ticklen": 6,
             "ticks": "inside"
            },
            "colorscale": [
             [
              0,
              "rgb(20,44,66)"
             ],
             [
              1,
              "rgb(90,179,244)"
             ]
            ],
            "type": "histogram2d"
           }
          ],
          "histogram2dcontour": [
           {
            "colorbar": {
             "outlinewidth": 0,
             "tickcolor": "rgb(237,237,237)",
             "ticklen": 6,
             "ticks": "inside"
            },
            "colorscale": [
             [
              0,
              "rgb(20,44,66)"
             ],
             [
              1,
              "rgb(90,179,244)"
             ]
            ],
            "type": "histogram2dcontour"
           }
          ],
          "mesh3d": [
           {
            "colorbar": {
             "outlinewidth": 0,
             "tickcolor": "rgb(237,237,237)",
             "ticklen": 6,
             "ticks": "inside"
            },
            "type": "mesh3d"
           }
          ],
          "parcoords": [
           {
            "line": {
             "colorbar": {
              "outlinewidth": 0,
              "tickcolor": "rgb(237,237,237)",
              "ticklen": 6,
              "ticks": "inside"
             }
            },
            "type": "parcoords"
           }
          ],
          "pie": [
           {
            "automargin": true,
            "type": "pie"
           }
          ],
          "scatter": [
           {
            "fillpattern": {
             "fillmode": "overlay",
             "size": 10,
             "solidity": 0.2
            },
            "type": "scatter"
           }
          ],
          "scatter3d": [
           {
            "line": {
             "colorbar": {
              "outlinewidth": 0,
              "tickcolor": "rgb(237,237,237)",
              "ticklen": 6,
              "ticks": "inside"
             }
            },
            "marker": {
             "colorbar": {
              "outlinewidth": 0,
              "tickcolor": "rgb(237,237,237)",
              "ticklen": 6,
              "ticks": "inside"
             }
            },
            "type": "scatter3d"
           }
          ],
          "scattercarpet": [
           {
            "marker": {
             "colorbar": {
              "outlinewidth": 0,
              "tickcolor": "rgb(237,237,237)",
              "ticklen": 6,
              "ticks": "inside"
             }
            },
            "type": "scattercarpet"
           }
          ],
          "scattergeo": [
           {
            "marker": {
             "colorbar": {
              "outlinewidth": 0,
              "tickcolor": "rgb(237,237,237)",
              "ticklen": 6,
              "ticks": "inside"
             }
            },
            "type": "scattergeo"
           }
          ],
          "scattergl": [
           {
            "marker": {
             "colorbar": {
              "outlinewidth": 0,
              "tickcolor": "rgb(237,237,237)",
              "ticklen": 6,
              "ticks": "inside"
             }
            },
            "type": "scattergl"
           }
          ],
          "scattermapbox": [
           {
            "marker": {
             "colorbar": {
              "outlinewidth": 0,
              "tickcolor": "rgb(237,237,237)",
              "ticklen": 6,
              "ticks": "inside"
             }
            },
            "type": "scattermapbox"
           }
          ],
          "scatterpolar": [
           {
            "marker": {
             "colorbar": {
              "outlinewidth": 0,
              "tickcolor": "rgb(237,237,237)",
              "ticklen": 6,
              "ticks": "inside"
             }
            },
            "type": "scatterpolar"
           }
          ],
          "scatterpolargl": [
           {
            "marker": {
             "colorbar": {
              "outlinewidth": 0,
              "tickcolor": "rgb(237,237,237)",
              "ticklen": 6,
              "ticks": "inside"
             }
            },
            "type": "scatterpolargl"
           }
          ],
          "scatterternary": [
           {
            "marker": {
             "colorbar": {
              "outlinewidth": 0,
              "tickcolor": "rgb(237,237,237)",
              "ticklen": 6,
              "ticks": "inside"
             }
            },
            "type": "scatterternary"
           }
          ],
          "surface": [
           {
            "colorbar": {
             "outlinewidth": 0,
             "tickcolor": "rgb(237,237,237)",
             "ticklen": 6,
             "ticks": "inside"
            },
            "colorscale": [
             [
              0,
              "rgb(20,44,66)"
             ],
             [
              1,
              "rgb(90,179,244)"
             ]
            ],
            "type": "surface"
           }
          ],
          "table": [
           {
            "cells": {
             "fill": {
              "color": "rgb(237,237,237)"
             },
             "line": {
              "color": "white"
             }
            },
            "header": {
             "fill": {
              "color": "rgb(217,217,217)"
             },
             "line": {
              "color": "white"
             }
            },
            "type": "table"
           }
          ]
         },
         "layout": {
          "annotationdefaults": {
           "arrowhead": 0,
           "arrowwidth": 1
          },
          "autotypenumbers": "strict",
          "coloraxis": {
           "colorbar": {
            "outlinewidth": 0,
            "tickcolor": "rgb(237,237,237)",
            "ticklen": 6,
            "ticks": "inside"
           }
          },
          "colorscale": {
           "sequential": [
            [
             0,
             "rgb(20,44,66)"
            ],
            [
             1,
             "rgb(90,179,244)"
            ]
           ],
           "sequentialminus": [
            [
             0,
             "rgb(20,44,66)"
            ],
            [
             1,
             "rgb(90,179,244)"
            ]
           ]
          },
          "colorway": [
           "#F8766D",
           "#A3A500",
           "#00BF7D",
           "#00B0F6",
           "#E76BF3"
          ],
          "font": {
           "color": "rgb(51,51,51)"
          },
          "geo": {
           "bgcolor": "white",
           "lakecolor": "white",
           "landcolor": "rgb(237,237,237)",
           "showlakes": true,
           "showland": true,
           "subunitcolor": "white"
          },
          "hoverlabel": {
           "align": "left"
          },
          "hovermode": "closest",
          "paper_bgcolor": "white",
          "plot_bgcolor": "rgb(237,237,237)",
          "polar": {
           "angularaxis": {
            "gridcolor": "white",
            "linecolor": "white",
            "showgrid": true,
            "tickcolor": "rgb(51,51,51)",
            "ticks": "outside"
           },
           "bgcolor": "rgb(237,237,237)",
           "radialaxis": {
            "gridcolor": "white",
            "linecolor": "white",
            "showgrid": true,
            "tickcolor": "rgb(51,51,51)",
            "ticks": "outside"
           }
          },
          "scene": {
           "xaxis": {
            "backgroundcolor": "rgb(237,237,237)",
            "gridcolor": "white",
            "gridwidth": 2,
            "linecolor": "white",
            "showbackground": true,
            "showgrid": true,
            "tickcolor": "rgb(51,51,51)",
            "ticks": "outside",
            "zerolinecolor": "white"
           },
           "yaxis": {
            "backgroundcolor": "rgb(237,237,237)",
            "gridcolor": "white",
            "gridwidth": 2,
            "linecolor": "white",
            "showbackground": true,
            "showgrid": true,
            "tickcolor": "rgb(51,51,51)",
            "ticks": "outside",
            "zerolinecolor": "white"
           },
           "zaxis": {
            "backgroundcolor": "rgb(237,237,237)",
            "gridcolor": "white",
            "gridwidth": 2,
            "linecolor": "white",
            "showbackground": true,
            "showgrid": true,
            "tickcolor": "rgb(51,51,51)",
            "ticks": "outside",
            "zerolinecolor": "white"
           }
          },
          "shapedefaults": {
           "fillcolor": "black",
           "line": {
            "width": 0
           },
           "opacity": 0.3
          },
          "ternary": {
           "aaxis": {
            "gridcolor": "white",
            "linecolor": "white",
            "showgrid": true,
            "tickcolor": "rgb(51,51,51)",
            "ticks": "outside"
           },
           "baxis": {
            "gridcolor": "white",
            "linecolor": "white",
            "showgrid": true,
            "tickcolor": "rgb(51,51,51)",
            "ticks": "outside"
           },
           "bgcolor": "rgb(237,237,237)",
           "caxis": {
            "gridcolor": "white",
            "linecolor": "white",
            "showgrid": true,
            "tickcolor": "rgb(51,51,51)",
            "ticks": "outside"
           }
          },
          "xaxis": {
           "automargin": true,
           "gridcolor": "white",
           "linecolor": "white",
           "showgrid": true,
           "tickcolor": "rgb(51,51,51)",
           "ticks": "outside",
           "title": {
            "standoff": 15
           },
           "zerolinecolor": "white"
          },
          "yaxis": {
           "automargin": true,
           "gridcolor": "white",
           "linecolor": "white",
           "showgrid": true,
           "tickcolor": "rgb(51,51,51)",
           "ticks": "outside",
           "title": {
            "standoff": 15
           },
           "zerolinecolor": "white"
          }
         }
        },
        "title": {
         "text": "Instituciones estatales con más trámites"
        },
        "xaxis": {
         "anchor": "y",
         "autorange": true,
         "domain": [
          0,
          1
         ],
         "range": [
          0,
          173.68421052631578
         ],
         "title": {
          "text": "Trámites"
         },
         "type": "linear"
        },
        "yaxis": {
         "anchor": "x",
         "autorange": true,
         "domain": [
          0,
          1
         ],
         "range": [
          -0.5,
          21.5
         ],
         "title": {
          "text": "Institución"
         },
         "type": "category"
        }
       }
      },
      "image/png": "[encoded data removed]",
      "text/html": [
       "<div>                            <div id=\"dceb07df-02cc-4fbf-af56-756645c634bb\" class=\"plotly-graph-div\" style=\"height:620px; width:100%;\"></div>            <script type=\"text/javascript\">                require([\"plotly\"], function(Plotly) {                    window.PLOTLYENV=window.PLOTLYENV || {};                                    if (document.getElementById(\"dceb07df-02cc-4fbf-af56-756645c634bb\")) {                    Plotly.newPlot(                        \"dceb07df-02cc-4fbf-af56-756645c634bb\",                        [{\"alignmentgroup\":\"True\",\"hovertemplate\":\"x=%{x}\\u003cbr\\u003ey=%{y}\\u003cbr\\u003ecolor=%{marker.color}\\u003cextra\\u003e\\u003c\\u002fextra\\u003e\",\"legendgroup\":\"\",\"marker\":{\"color\":[165,71,66,65,58,43,35,35,30,29,26,26,24,24,22,19,18,18,17,17,16,16],\"coloraxis\":\"coloraxis\",\"pattern\":{\"shape\":\"\"}},\"name\":\"\",\"offsetgroup\":\"\",\"orientation\":\"h\",\"showlegend\":false,\"textposition\":\"outside\",\"texttemplate\":\"%{x}\",\"x\":[165,71,66,65,58,43,35,35,30,29,26,26,24,24,22,19,18,18,17,17,16,16],\"xaxis\":\"x\",\"y\":[\"MINISTERIO DE EDUCACI\\u00d3N - MINEDU\",\"Gobierno Autonomo Municipal de Trinidad - GAMT\",\"Gobierno Aut\\u00f3nomo Departamental de Cochabamba - GADC\",\"Servicio Nacional de Propiedad Intelectual - SENAPI\",\"Servicio Plurinacional de Registro de Comercio - SEPREC\",\"Direcci\\u00f3n General de Migraci\\u00f3n - DIGEMIG\",\"Universidad Mayor de San Sim\\u00f3n - UMSS\",\"Direcci\\u00f3n Departamental de Educaci\\u00f3n Chuquisaca - DDE-CHU\",\"Universidad Mayor Real y Pontificia de San Francisco Xavier - UMSFX\",\"Universidad Cat\\u00f3lica Boliviana San Pablo - U.C.B.\",\"Direcci\\u00f3n Departamental de Educaci\\u00f3n Tarija - DDE-TAR\",\"Universidad T\\u00e9cnica de Oruro - UTO\",\"Gestora P\\u00fablica de la Seguridad Social de Largo Plazo - GESTORA\",\"Autoridad de Fiscalizaci\\u00f3n y Control de Cooperativas - AFCOOP\",\"Comando General de la Polic\\u00eda Boliviana -\",\"Universidad Aut\\u00f3noma Tom\\u00e1s Fr\\u00edas - UATF\",\"Ministerio de Obras P\\u00fablicas, Servicios y Vivienda - MINOPSV\",\"Ministerio de Defensa - MINDEF\",\"Ministerio de Justicia y Transparencia Institucional - MINJTI\",\"Servicio Nacional del Sistema de Reparto - SENASIR\",\"Direcci\\u00f3n Nacional del Servicio de Registro C\\u00edvico \\u2013 SERECI - SERECI\",\"Direcci\\u00f3n General de Aeron\\u00e1utica Civil - DGAC\"],\"yaxis\":\"y\",\"type\":\"bar\",\"textfont\":{\"size\":12},\"cliponaxis\":false,\"textangle\":0}],                        {\"template\":{\"data\":{\"barpolar\":[{\"marker\":{\"line\":{\"color\":\"rgb(237,237,237)\",\"width\":0.5},\"pattern\":{\"fillmode\":\"overlay\",\"size\":10,\"solidity\":0.2}},\"type\":\"barpolar\"}],\"bar\":[{\"error_x\":{\"color\":\"rgb(51,51,51)\"},\"error_y\":{\"color\":\"rgb(51,51,51)\"},\"marker\":{\"line\":{\"color\":\"rgb(237,237,237)\",\"width\":0.5},\"pattern\":{\"fillmode\":\"overlay\",\"size\":10,\"solidity\":0.2}},\"type\":\"bar\"}],\"carpet\":[{\"aaxis\":{\"endlinecolor\":\"rgb(51,51,51)\",\"gridcolor\":\"white\",\"linecolor\":\"white\",\"minorgridcolor\":\"white\",\"startlinecolor\":\"rgb(51,51,51)\"},\"baxis\":{\"endlinecolor\":\"rgb(51,51,51)\",\"gridcolor\":\"white\",\"linecolor\":\"white\",\"minorgridcolor\":\"white\",\"startlinecolor\":\"rgb(51,51,51)\"},\"type\":\"carpet\"}],\"choropleth\":[{\"colorbar\":{\"outlinewidth\":0,\"tickcolor\":\"rgb(237,237,237)\",\"ticklen\":6,\"ticks\":\"inside\"},\"type\":\"choropleth\"}],\"contourcarpet\":[{\"colorbar\":{\"outlinewidth\":0,\"tickcolor\":\"rgb(237,237,237)\",\"ticklen\":6,\"ticks\":\"inside\"},\"type\":\"contourcarpet\"}],\"contour\":[{\"colorbar\":{\"outlinewidth\":0,\"tickcolor\":\"rgb(237,237,237)\",\"ticklen\":6,\"ticks\":\"inside\"},\"colorscale\":[[0,\"rgb(20,44,66)\"],[1,\"rgb(90,179,244)\"]],\"type\":\"contour\"}],\"heatmapgl\":[{\"colorbar\":{\"outlinewidth\":0,\"tickcolor\":\"rgb(237,237,237)\",\"ticklen\":6,\"ticks\":\"inside\"},\"colorscale\":[[0,\"rgb(20,44,66)\"],[1,\"rgb(90,179,244)\"]],\"type\":\"heatmapgl\"}],\"heatmap\":[{\"colorbar\":{\"outlinewidth\":0,\"tickcolor\":\"rgb(237,237,237)\",\"ticklen\":6,\"ticks\":\"inside\"},\"colorscale\":[[0,\"rgb(20,44,66)\"],[1,\"rgb(90,179,244)\"]],\"type\":\"heatmap\"}],\"histogram2dcontour\":[{\"colorbar\":{\"outlinewidth\":0,\"tickcolor\":\"rgb(237,237,237)\",\"ticklen\":6,\"ticks\":\"inside\"},\"colorscale\":[[0,\"rgb(20,44,66)\"],[1,\"rgb(90,179,244)\"]],\"type\":\"histogram2dcontour\"}],\"histogram2d\":[{\"colorbar\":{\"outlinewidth\":0,\"tickcolor\":\"rgb(237,237,237)\",\"ticklen\":6,\"ticks\":\"inside\"},\"colorscale\":[[0,\"rgb(20,44,66)\"],[1,\"rgb(90,179,244)\"]],\"type\":\"histogram2d\"}],\"histogram\":[{\"marker\":{\"pattern\":{\"fillmode\":\"overlay\",\"size\":10,\"solidity\":0.2}},\"type\":\"histogram\"}],\"mesh3d\":[{\"colorbar\":{\"outlinewidth\":0,\"tickcolor\":\"rgb(237,237,237)\",\"ticklen\":6,\"ticks\":\"inside\"},\"type\":\"mesh3d\"}],\"parcoords\":[{\"line\":{\"colorbar\":{\"outlinewidth\":0,\"tickcolor\":\"rgb(237,237,237)\",\"ticklen\":6,\"ticks\":\"inside\"}},\"type\":\"parcoords\"}],\"pie\":[{\"automargin\":true,\"type\":\"pie\"}],\"scatter3d\":[{\"line\":{\"colorbar\":{\"outlinewidth\":0,\"tickcolor\":\"rgb(237,237,237)\",\"ticklen\":6,\"ticks\":\"inside\"}},\"marker\":{\"colorbar\":{\"outlinewidth\":0,\"tickcolor\":\"rgb(237,237,237)\",\"ticklen\":6,\"ticks\":\"inside\"}},\"type\":\"scatter3d\"}],\"scattercarpet\":[{\"marker\":{\"colorbar\":{\"outlinewidth\":0,\"tickcolor\":\"rgb(237,237,237)\",\"ticklen\":6,\"ticks\":\"inside\"}},\"type\":\"scattercarpet\"}],\"scattergeo\":[{\"marker\":{\"colorbar\":{\"outlinewidth\":0,\"tickcolor\":\"rgb(237,237,237)\",\"ticklen\":6,\"ticks\":\"inside\"}},\"type\":\"scattergeo\"}],\"scattergl\":[{\"marker\":{\"colorbar\":{\"outlinewidth\":0,\"tickcolor\":\"rgb(237,237,237)\",\"ticklen\":6,\"ticks\":\"inside\"}},\"type\":\"scattergl\"}],\"scattermapbox\":[{\"marker\":{\"colorbar\":{\"outlinewidth\":0,\"tickcolor\":\"rgb(237,237,237)\",\"ticklen\":6,\"ticks\":\"inside\"}},\"type\":\"scattermapbox\"}],\"scatterpolargl\":[{\"marker\":{\"colorbar\":{\"outlinewidth\":0,\"tickcolor\":\"rgb(237,237,237)\",\"ticklen\":6,\"ticks\":\"inside\"}},\"type\":\"scatterpolargl\"}],\"scatterpolar\":[{\"marker\":{\"colorbar\":{\"outlinewidth\":0,\"tickcolor\":\"rgb(237,237,237)\",\"ticklen\":6,\"ticks\":\"inside\"}},\"type\":\"scatterpolar\"}],\"scatter\":[{\"fillpattern\":{\"fillmode\":\"overlay\",\"size\":10,\"solidity\":0.2},\"type\":\"scatter\"}],\"scatterternary\":[{\"marker\":{\"colorbar\":{\"outlinewidth\":0,\"tickcolor\":\"rgb(237,237,237)\",\"ticklen\":6,\"ticks\":\"inside\"}},\"type\":\"scatterternary\"}],\"surface\":[{\"colorbar\":{\"outlinewidth\":0,\"tickcolor\":\"rgb(237,237,237)\",\"ticklen\":6,\"ticks\":\"inside\"},\"colorscale\":[[0,\"rgb(20,44,66)\"],[1,\"rgb(90,179,244)\"]],\"type\":\"surface\"}],\"table\":[{\"cells\":{\"fill\":{\"color\":\"rgb(237,237,237)\"},\"line\":{\"color\":\"white\"}},\"header\":{\"fill\":{\"color\":\"rgb(217,217,217)\"},\"line\":{\"color\":\"white\"}},\"type\":\"table\"}]},\"layout\":{\"annotationdefaults\":{\"arrowhead\":0,\"arrowwidth\":1},\"autotypenumbers\":\"strict\",\"coloraxis\":{\"colorbar\":{\"outlinewidth\":0,\"tickcolor\":\"rgb(237,237,237)\",\"ticklen\":6,\"ticks\":\"inside\"}},\"colorscale\":{\"sequential\":[[0,\"rgb(20,44,66)\"],[1,\"rgb(90,179,244)\"]],\"sequentialminus\":[[0,\"rgb(20,44,66)\"],[1,\"rgb(90,179,244)\"]]},\"colorway\":[\"#F8766D\",\"#A3A500\",\"#00BF7D\",\"#00B0F6\",\"#E76BF3\"],\"font\":{\"color\":\"rgb(51,51,51)\"},\"geo\":{\"bgcolor\":\"white\",\"lakecolor\":\"white\",\"landcolor\":\"rgb(237,237,237)\",\"showlakes\":true,\"showland\":true,\"subunitcolor\":\"white\"},\"hoverlabel\":{\"align\":\"left\"},\"hovermode\":\"closest\",\"paper_bgcolor\":\"white\",\"plot_bgcolor\":\"rgb(237,237,237)\",\"polar\":{\"angularaxis\":{\"gridcolor\":\"white\",\"linecolor\":\"white\",\"showgrid\":true,\"tickcolor\":\"rgb(51,51,51)\",\"ticks\":\"outside\"},\"bgcolor\":\"rgb(237,237,237)\",\"radialaxis\":{\"gridcolor\":\"white\",\"linecolor\":\"white\",\"showgrid\":true,\"tickcolor\":\"rgb(51,51,51)\",\"ticks\":\"outside\"}},\"scene\":{\"xaxis\":{\"backgroundcolor\":\"rgb(237,237,237)\",\"gridcolor\":\"white\",\"gridwidth\":2,\"linecolor\":\"white\",\"showbackground\":true,\"showgrid\":true,\"tickcolor\":\"rgb(51,51,51)\",\"ticks\":\"outside\",\"zerolinecolor\":\"white\"},\"yaxis\":{\"backgroundcolor\":\"rgb(237,237,237)\",\"gridcolor\":\"white\",\"gridwidth\":2,\"linecolor\":\"white\",\"showbackground\":true,\"showgrid\":true,\"tickcolor\":\"rgb(51,51,51)\",\"ticks\":\"outside\",\"zerolinecolor\":\"white\"},\"zaxis\":{\"backgroundcolor\":\"rgb(237,237,237)\",\"gridcolor\":\"white\",\"gridwidth\":2,\"linecolor\":\"white\",\"showbackground\":true,\"showgrid\":true,\"tickcolor\":\"rgb(51,51,51)\",\"ticks\":\"outside\",\"zerolinecolor\":\"white\"}},\"shapedefaults\":{\"fillcolor\":\"black\",\"line\":{\"width\":0},\"opacity\":0.3},\"ternary\":{\"aaxis\":{\"gridcolor\":\"white\",\"linecolor\":\"white\",\"showgrid\":true,\"tickcolor\":\"rgb(51,51,51)\",\"ticks\":\"outside\"},\"baxis\":{\"gridcolor\":\"white\",\"linecolor\":\"white\",\"showgrid\":true,\"tickcolor\":\"rgb(51,51,51)\",\"ticks\":\"outside\"},\"bgcolor\":\"rgb(237,237,237)\",\"caxis\":{\"gridcolor\":\"white\",\"linecolor\":\"white\",\"showgrid\":true,\"tickcolor\":\"rgb(51,51,51)\",\"ticks\":\"outside\"}},\"xaxis\":{\"automargin\":true,\"gridcolor\":\"white\",\"linecolor\":\"white\",\"showgrid\":true,\"tickcolor\":\"rgb(51,51,51)\",\"ticks\":\"outside\",\"title\":{\"standoff\":15},\"zerolinecolor\":\"white\"},\"yaxis\":{\"automargin\":true,\"gridcolor\":\"white\",\"linecolor\":\"white\",\"showgrid\":true,\"tickcolor\":\"rgb(51,51,51)\",\"ticks\":\"outside\",\"title\":{\"standoff\":15},\"zerolinecolor\":\"white\"}}},\"xaxis\":{\"anchor\":\"y\",\"domain\":[0.0,1.0],\"title\":{\"text\":\"Tr\\u00e1mites\"}},\"yaxis\":{\"anchor\":\"x\",\"domain\":[0.0,1.0],\"title\":{\"text\":\"Instituci\\u00f3n\"}},\"coloraxis\":{\"colorbar\":{\"title\":{\"text\":\"color\"}},\"colorscale\":[[0.0,\"rgb(20,44,66)\"],[1.0,\"rgb(90,179,244)\"]],\"showscale\":false},\"legend\":{\"tracegroupgap\":0},\"title\":{\"text\":\"Instituciones estatales con m\\u00e1s tr\\u00e1mites\"},\"barmode\":\"relative\",\"height\":620,\"plot_bgcolor\":\"rgba(0,0,0,0)\"},                        {\"responsive\": true}                    ).then(function(){\n",
       "                            \n",
       "var gd = document.getElementById('dceb07df-02cc-4fbf-af56-756645c634bb');\n",
       "var x = new MutationObserver(function (mutations, observer) {{\n",
       "        var display = window.getComputedStyle(gd).display;\n",
       "        if (!display || display === 'none') {{\n",
       "            console.log([gd, 'removed!']);\n",
       "            Plotly.purge(gd);\n",
       "            observer.disconnect();\n",
       "        }}\n",
       "}});\n",
       "\n",
       "// Listen for the removal of the full notebook cells\n",
       "var notebookContainer = gd.closest('#notebook-container');\n",
       "if (notebookContainer) {{\n",
       "    x.observe(notebookContainer, {childList: true});\n",
       "}}\n",
       "\n",
       "// Listen for the clearing of the current output cell\n",
       "var outputEl = gd.closest('.output');\n",
       "if (outputEl) {{\n",
       "    x.observe(outputEl, {childList: true});\n",
       "}}\n",
       "\n",
       "                        })                };                });            </script>        </div>"
      ]
     },
     "metadata": {},
     "output_type": "display_data"
    }
   ],
   "source": [
    "serie = df.groupby('institucion').count()['titulo'].sort_values(ascending=False)\n",
    "n_samples = int(len(serie)*0.18)\n",
    "\n",
    "\n",
    "# fig = px.bar(x=serie[:n_samples].index, y=serie[:n_samples].values,  color=serie[:n_samples].values,\n",
    "#              text_auto=True,\n",
    "#              title='Instituciones estatales con más trámites')\n",
    "\n",
    "fig = px.bar(y=serie[:n_samples].index, x=serie[:n_samples].values,  color=serie[:n_samples].values,\n",
    "             orientation='h',\n",
    "             text_auto=True,\n",
    "                 height=620,\n",
    "             template='ggplot2',\n",
    "             title='Instituciones estatales con más trámites')\n",
    "\n",
    "fig.update_traces(showlegend=False)\n",
    "fig.update_layout(coloraxis_showscale=False, )\n",
    "fig.update_layout(\n",
    "    yaxis_title=\"Institución\", xaxis_title=\"Trámites\",\n",
    ")\n",
    "fig.update_layout(\n",
    "        plot_bgcolor='rgba(0,0,0,0)'\n",
    ")\n",
    "\n",
    "#fig.update_yaxes(visible=False)\n",
    "fig.update_traces(textfont_size=12, textangle=0, textposition=\"outside\", cliponaxis=False)\n",
    "fig.show()\n"
   ]
  },
  {
   "cell_type": "code",
   "execution_count": 93,
   "id": "b4c09204-6257-4ba1-984a-38f008b108f8",
   "metadata": {},
   "outputs": [
    {
     "data": {
      "application/vnd.plotly.v1+json": {
       "config": {
        "plotlyServerURL": "https://plot.ly"
       },
       "data": [
        {
         "alignmentgroup": "True",
         "cliponaxis": false,
         "hovertemplate": "x=%{x}<br>y=%{y}<br>color=%{marker.color}<extra></extra>",
         "legendgroup": "",
         "marker": {
          "color": [
           1,
           1,
           1,
           1,
           1,
           1,
           1,
           1,
           1,
           1,
           1,
           1,
           1,
           1,
           1,
           1,
           1,
           1,
           1,
           1,
           1,
           1,
           1,
           1,
           1,
           1,
           1,
           1,
           2,
           2,
           2,
           2,
           2,
           2,
           2,
           2
          ],
          "coloraxis": "coloraxis",
          "pattern": {
           "shape": ""
          }
         },
         "name": "",
         "offsetgroup": "",
         "orientation": "h",
         "showlegend": false,
         "textangle": 0,
         "textfont": {
          "size": 12
         },
         "textposition": "outside",
         "texttemplate": "%{x}",
         "type": "bar",
         "x": [
          1,
          1,
          1,
          1,
          1,
          1,
          1,
          1,
          1,
          1,
          1,
          1,
          1,
          1,
          1,
          1,
          1,
          1,
          1,
          1,
          1,
          1,
          1,
          1,
          1,
          1,
          1,
          1,
          2,
          2,
          2,
          2,
          2,
          2,
          2,
          2
         ],
         "xaxis": "x",
         "y": [
          "Autoridad de Fiscalización y Control del Sistema Nacional de Salud - ASINSA",
          "Transportes Aéreos Bolivianos - TAB",
          "Universidad Autónoma Gabriel René Moreno - UAGRM",
          "Unidad de Proyectos Especiales - UPRE",
          "Contraloría General del Estado - CGE",
          "Ministerio de Deportes - MINDEP",
          "Ministerio de Desarrollo Rural y Tierras - MINDRT",
          "Centro de Comunicaciones La Paz - CCLP",
          "Instituto Nacional de Estadística - INE",
          "Servicio Plurinacional de Defensa Pública - SEPDEP",
          "Entidad Pública Desconcentrada Unidad Ejecutora de Pozos - UE-Pozos",
          "Gobierno Autónomo Municipal de Villa Tunari - TUN",
          "Empresa Municipal de Áreas Verdes, Parques y Forestación - EMAV-S",
          "Servicio Nacional de Riego (SENARI) - SENARI",
          "Servicio Nacional de Aerofotogrametría - SNAF",
          "Defensoría del Pueblo - DP",
          "Fondo de Financiamiento para la Minería - FOFIM",
          "Servicio Nacional de Meteorología e Hidrología - SENAMHI",
          "Autoridad de Fiscalización y Control de Pensiones y Seguros - APS",
          "Autoridad de Fiscalización y Control Social de Bosques y Tierras - ABT",
          "Autoridad de Fiscalización y Control Social de Agua Potable y Saneamiento Básico - AAPS",
          "Autoridad de Fiscalización de Empresas - AEMP",
          "Autoridad Jurisdiccional Administrativa Minera - AJAM",
          "Agencia de Gobierno Electrónico y Tecnologías de la Información y Comunicación - AGETIC",
          "Agencia Nacional de Hidrocarburos - ANH",
          "Seguro Social Universitario de Potosí - SSUPTS",
          "Instituto Boliviano de Normalizacion y Calidad - IBNORCA",
          "Institución Pública Desconcentrada de Pesca y Acuicultura “PACU” - PACU",
          "Tribunal Supremo de Justicia - TSJ",
          "Tribunal Agroambiental -",
          "Comité Ejecutivo de la Universidad Boliviana - CEUB",
          "Seguro Social Universitario de Beni - SSUBENI",
          "Escuela Nacional de Salud - ENS",
          "Fondo Nacional de Desarrollo Regional - FNDR",
          "Entidad Ejecutora de Conversión a Gas Natural Vehicular - EEC-GNV",
          "Servicio Nacional de Hidrografía Naval - SNHN"
         ],
         "yaxis": "y"
        }
       ],
       "layout": {
        "autosize": true,
        "barmode": "relative",
        "coloraxis": {
         "colorbar": {
          "title": {
           "text": "color"
          }
         },
         "colorscale": [
          [
           0,
           "rgb(20,44,66)"
          ],
          [
           1,
           "rgb(90,179,244)"
          ]
         ],
         "showscale": false
        },
        "legend": {
         "tracegroupgap": 0
        },
        "plot_bgcolor": "rgba(0, 0, 0, 0)",
        "template": {
         "data": {
          "bar": [
           {
            "error_x": {
             "color": "rgb(51,51,51)"
            },
            "error_y": {
             "color": "rgb(51,51,51)"
            },
            "marker": {
             "line": {
              "color": "rgb(237,237,237)",
              "width": 0.5
             },
             "pattern": {
              "fillmode": "overlay",
              "size": 10,
              "solidity": 0.2
             }
            },
            "type": "bar"
           }
          ],
          "barpolar": [
           {
            "marker": {
             "line": {
              "color": "rgb(237,237,237)",
              "width": 0.5
             },
             "pattern": {
              "fillmode": "overlay",
              "size": 10,
              "solidity": 0.2
             }
            },
            "type": "barpolar"
           }
          ],
          "carpet": [
           {
            "aaxis": {
             "endlinecolor": "rgb(51,51,51)",
             "gridcolor": "white",
             "linecolor": "white",
             "minorgridcolor": "white",
             "startlinecolor": "rgb(51,51,51)"
            },
            "baxis": {
             "endlinecolor": "rgb(51,51,51)",
             "gridcolor": "white",
             "linecolor": "white",
             "minorgridcolor": "white",
             "startlinecolor": "rgb(51,51,51)"
            },
            "type": "carpet"
           }
          ],
          "choropleth": [
           {
            "colorbar": {
             "outlinewidth": 0,
             "tickcolor": "rgb(237,237,237)",
             "ticklen": 6,
             "ticks": "inside"
            },
            "type": "choropleth"
           }
          ],
          "contour": [
           {
            "colorbar": {
             "outlinewidth": 0,
             "tickcolor": "rgb(237,237,237)",
             "ticklen": 6,
             "ticks": "inside"
            },
            "colorscale": [
             [
              0,
              "rgb(20,44,66)"
             ],
             [
              1,
              "rgb(90,179,244)"
             ]
            ],
            "type": "contour"
           }
          ],
          "contourcarpet": [
           {
            "colorbar": {
             "outlinewidth": 0,
             "tickcolor": "rgb(237,237,237)",
             "ticklen": 6,
             "ticks": "inside"
            },
            "type": "contourcarpet"
           }
          ],
          "heatmap": [
           {
            "colorbar": {
             "outlinewidth": 0,
             "tickcolor": "rgb(237,237,237)",
             "ticklen": 6,
             "ticks": "inside"
            },
            "colorscale": [
             [
              0,
              "rgb(20,44,66)"
             ],
             [
              1,
              "rgb(90,179,244)"
             ]
            ],
            "type": "heatmap"
           }
          ],
          "heatmapgl": [
           {
            "colorbar": {
             "outlinewidth": 0,
             "tickcolor": "rgb(237,237,237)",
             "ticklen": 6,
             "ticks": "inside"
            },
            "colorscale": [
             [
              0,
              "rgb(20,44,66)"
             ],
             [
              1,
              "rgb(90,179,244)"
             ]
            ],
            "type": "heatmapgl"
           }
          ],
          "histogram": [
           {
            "marker": {
             "pattern": {
              "fillmode": "overlay",
              "size": 10,
              "solidity": 0.2
             }
            },
            "type": "histogram"
           }
          ],
          "histogram2d": [
           {
            "colorbar": {
             "outlinewidth": 0,
             "tickcolor": "rgb(237,237,237)",
             "ticklen": 6,
             "ticks": "inside"
            },
            "colorscale": [
             [
              0,
              "rgb(20,44,66)"
             ],
             [
              1,
              "rgb(90,179,244)"
             ]
            ],
            "type": "histogram2d"
           }
          ],
          "histogram2dcontour": [
           {
            "colorbar": {
             "outlinewidth": 0,
             "tickcolor": "rgb(237,237,237)",
             "ticklen": 6,
             "ticks": "inside"
            },
            "colorscale": [
             [
              0,
              "rgb(20,44,66)"
             ],
             [
              1,
              "rgb(90,179,244)"
             ]
            ],
            "type": "histogram2dcontour"
           }
          ],
          "mesh3d": [
           {
            "colorbar": {
             "outlinewidth": 0,
             "tickcolor": "rgb(237,237,237)",
             "ticklen": 6,
             "ticks": "inside"
            },
            "type": "mesh3d"
           }
          ],
          "parcoords": [
           {
            "line": {
             "colorbar": {
              "outlinewidth": 0,
              "tickcolor": "rgb(237,237,237)",
              "ticklen": 6,
              "ticks": "inside"
             }
            },
            "type": "parcoords"
           }
          ],
          "pie": [
           {
            "automargin": true,
            "type": "pie"
           }
          ],
          "scatter": [
           {
            "fillpattern": {
             "fillmode": "overlay",
             "size": 10,
             "solidity": 0.2
            },
            "type": "scatter"
           }
          ],
          "scatter3d": [
           {
            "line": {
             "colorbar": {
              "outlinewidth": 0,
              "tickcolor": "rgb(237,237,237)",
              "ticklen": 6,
              "ticks": "inside"
             }
            },
            "marker": {
             "colorbar": {
              "outlinewidth": 0,
              "tickcolor": "rgb(237,237,237)",
              "ticklen": 6,
              "ticks": "inside"
             }
            },
            "type": "scatter3d"
           }
          ],
          "scattercarpet": [
           {
            "marker": {
             "colorbar": {
              "outlinewidth": 0,
              "tickcolor": "rgb(237,237,237)",
              "ticklen": 6,
              "ticks": "inside"
             }
            },
            "type": "scattercarpet"
           }
          ],
          "scattergeo": [
           {
            "marker": {
             "colorbar": {
              "outlinewidth": 0,
              "tickcolor": "rgb(237,237,237)",
              "ticklen": 6,
              "ticks": "inside"
             }
            },
            "type": "scattergeo"
           }
          ],
          "scattergl": [
           {
            "marker": {
             "colorbar": {
              "outlinewidth": 0,
              "tickcolor": "rgb(237,237,237)",
              "ticklen": 6,
              "ticks": "inside"
             }
            },
            "type": "scattergl"
           }
          ],
          "scattermapbox": [
           {
            "marker": {
             "colorbar": {
              "outlinewidth": 0,
              "tickcolor": "rgb(237,237,237)",
              "ticklen": 6,
              "ticks": "inside"
             }
            },
            "type": "scattermapbox"
           }
          ],
          "scatterpolar": [
           {
            "marker": {
             "colorbar": {
              "outlinewidth": 0,
              "tickcolor": "rgb(237,237,237)",
              "ticklen": 6,
              "ticks": "inside"
             }
            },
            "type": "scatterpolar"
           }
          ],
          "scatterpolargl": [
           {
            "marker": {
             "colorbar": {
              "outlinewidth": 0,
              "tickcolor": "rgb(237,237,237)",
              "ticklen": 6,
              "ticks": "inside"
             }
            },
            "type": "scatterpolargl"
           }
          ],
          "scatterternary": [
           {
            "marker": {
             "colorbar": {
              "outlinewidth": 0,
              "tickcolor": "rgb(237,237,237)",
              "ticklen": 6,
              "ticks": "inside"
             }
            },
            "type": "scatterternary"
           }
          ],
          "surface": [
           {
            "colorbar": {
             "outlinewidth": 0,
             "tickcolor": "rgb(237,237,237)",
             "ticklen": 6,
             "ticks": "inside"
            },
            "colorscale": [
             [
              0,
              "rgb(20,44,66)"
             ],
             [
              1,
              "rgb(90,179,244)"
             ]
            ],
            "type": "surface"
           }
          ],
          "table": [
           {
            "cells": {
             "fill": {
              "color": "rgb(237,237,237)"
             },
             "line": {
              "color": "white"
             }
            },
            "header": {
             "fill": {
              "color": "rgb(217,217,217)"
             },
             "line": {
              "color": "white"
             }
            },
            "type": "table"
           }
          ]
         },
         "layout": {
          "annotationdefaults": {
           "arrowhead": 0,
           "arrowwidth": 1
          },
          "autotypenumbers": "strict",
          "coloraxis": {
           "colorbar": {
            "outlinewidth": 0,
            "tickcolor": "rgb(237,237,237)",
            "ticklen": 6,
            "ticks": "inside"
           }
          },
          "colorscale": {
           "sequential": [
            [
             0,
             "rgb(20,44,66)"
            ],
            [
             1,
             "rgb(90,179,244)"
            ]
           ],
           "sequentialminus": [
            [
             0,
             "rgb(20,44,66)"
            ],
            [
             1,
             "rgb(90,179,244)"
            ]
           ]
          },
          "colorway": [
           "#F8766D",
           "#A3A500",
           "#00BF7D",
           "#00B0F6",
           "#E76BF3"
          ],
          "font": {
           "color": "rgb(51,51,51)"
          },
          "geo": {
           "bgcolor": "white",
           "lakecolor": "white",
           "landcolor": "rgb(237,237,237)",
           "showlakes": true,
           "showland": true,
           "subunitcolor": "white"
          },
          "hoverlabel": {
           "align": "left"
          },
          "hovermode": "closest",
          "paper_bgcolor": "white",
          "plot_bgcolor": "rgb(237,237,237)",
          "polar": {
           "angularaxis": {
            "gridcolor": "white",
            "linecolor": "white",
            "showgrid": true,
            "tickcolor": "rgb(51,51,51)",
            "ticks": "outside"
           },
           "bgcolor": "rgb(237,237,237)",
           "radialaxis": {
            "gridcolor": "white",
            "linecolor": "white",
            "showgrid": true,
            "tickcolor": "rgb(51,51,51)",
            "ticks": "outside"
           }
          },
          "scene": {
           "xaxis": {
            "backgroundcolor": "rgb(237,237,237)",
            "gridcolor": "white",
            "gridwidth": 2,
            "linecolor": "white",
            "showbackground": true,
            "showgrid": true,
            "tickcolor": "rgb(51,51,51)",
            "ticks": "outside",
            "zerolinecolor": "white"
           },
           "yaxis": {
            "backgroundcolor": "rgb(237,237,237)",
            "gridcolor": "white",
            "gridwidth": 2,
            "linecolor": "white",
            "showbackground": true,
            "showgrid": true,
            "tickcolor": "rgb(51,51,51)",
            "ticks": "outside",
            "zerolinecolor": "white"
           },
           "zaxis": {
            "backgroundcolor": "rgb(237,237,237)",
            "gridcolor": "white",
            "gridwidth": 2,
            "linecolor": "white",
            "showbackground": true,
            "showgrid": true,
            "tickcolor": "rgb(51,51,51)",
            "ticks": "outside",
            "zerolinecolor": "white"
           }
          },
          "shapedefaults": {
           "fillcolor": "black",
           "line": {
            "width": 0
           },
           "opacity": 0.3
          },
          "ternary": {
           "aaxis": {
            "gridcolor": "white",
            "linecolor": "white",
            "showgrid": true,
            "tickcolor": "rgb(51,51,51)",
            "ticks": "outside"
           },
           "baxis": {
            "gridcolor": "white",
            "linecolor": "white",
            "showgrid": true,
            "tickcolor": "rgb(51,51,51)",
            "ticks": "outside"
           },
           "bgcolor": "rgb(237,237,237)",
           "caxis": {
            "gridcolor": "white",
            "linecolor": "white",
            "showgrid": true,
            "tickcolor": "rgb(51,51,51)",
            "ticks": "outside"
           }
          },
          "xaxis": {
           "automargin": true,
           "gridcolor": "white",
           "linecolor": "white",
           "showgrid": true,
           "tickcolor": "rgb(51,51,51)",
           "ticks": "outside",
           "title": {
            "standoff": 15
           },
           "zerolinecolor": "white"
          },
          "yaxis": {
           "automargin": true,
           "gridcolor": "white",
           "linecolor": "white",
           "showgrid": true,
           "tickcolor": "rgb(51,51,51)",
           "ticks": "outside",
           "title": {
            "standoff": 15
           },
           "zerolinecolor": "white"
          }
         }
        },
        "title": {
         "text": "Instituciones estatales con menos trámites"
        },
        "xaxis": {
         "anchor": "y",
         "autorange": true,
         "domain": [
          0,
          1
         ],
         "range": [
          0,
          2.1052631578947367
         ],
         "title": {
          "text": "Trámites"
         },
         "type": "linear"
        },
        "yaxis": {
         "anchor": "x",
         "autorange": true,
         "domain": [
          0,
          1
         ],
         "range": [
          -0.5,
          35.5
         ],
         "title": {
          "text": "Institución"
         },
         "type": "category"
        }
       }
      },
      "image/png": "[encoded data removed]",
      "text/html": [
       "<div>                            <div id=\"5d7497aa-61cf-43ca-9c3f-1e53598148d4\" class=\"plotly-graph-div\" style=\"height:620px; width:100%;\"></div>            <script type=\"text/javascript\">                require([\"plotly\"], function(Plotly) {                    window.PLOTLYENV=window.PLOTLYENV || {};                                    if (document.getElementById(\"5d7497aa-61cf-43ca-9c3f-1e53598148d4\")) {                    Plotly.newPlot(                        \"5d7497aa-61cf-43ca-9c3f-1e53598148d4\",                        [{\"alignmentgroup\":\"True\",\"hovertemplate\":\"x=%{x}\\u003cbr\\u003ey=%{y}\\u003cbr\\u003ecolor=%{marker.color}\\u003cextra\\u003e\\u003c\\u002fextra\\u003e\",\"legendgroup\":\"\",\"marker\":{\"color\":[1,1,1,1,1,1,1,1,1,1,1,1,1,1,1,1,1,1,1,1,1,1,1,1,1,1,1,1,2,2,2,2,2,2,2,2],\"coloraxis\":\"coloraxis\",\"pattern\":{\"shape\":\"\"}},\"name\":\"\",\"offsetgroup\":\"\",\"orientation\":\"h\",\"showlegend\":false,\"textposition\":\"outside\",\"texttemplate\":\"%{x}\",\"x\":[1,1,1,1,1,1,1,1,1,1,1,1,1,1,1,1,1,1,1,1,1,1,1,1,1,1,1,1,2,2,2,2,2,2,2,2],\"xaxis\":\"x\",\"y\":[\"Autoridad de Fiscalizaci\\u00f3n y Control del Sistema Nacional de Salud - ASINSA\",\"Transportes A\\u00e9reos Bolivianos - TAB\",\"Universidad Aut\\u00f3noma Gabriel Ren\\u00e9 Moreno - UAGRM\",\"Unidad de Proyectos Especiales - UPRE\",\"Contralor\\u00eda General del Estado - CGE\",\"Ministerio de Deportes - MINDEP\",\"Ministerio de Desarrollo Rural y Tierras - MINDRT\",\"Centro de Comunicaciones La Paz - CCLP\",\"Instituto Nacional de Estad\\u00edstica - INE\",\"Servicio Plurinacional de Defensa P\\u00fablica - SEPDEP\",\"Entidad P\\u00fablica Desconcentrada Unidad Ejecutora de Pozos - UE-Pozos\",\"Gobierno Aut\\u00f3nomo Municipal de Villa Tunari - TUN\",\"Empresa Municipal de \\u00c1reas Verdes, Parques y Forestaci\\u00f3n - EMAV-S\",\"Servicio Nacional de Riego (SENARI) - SENARI\",\"Servicio Nacional de Aerofotogrametr\\u00eda - SNAF\",\"Defensor\\u00eda del Pueblo - DP\",\"Fondo de Financiamiento para la Miner\\u00eda - FOFIM\",\"Servicio Nacional de Meteorolog\\u00eda e Hidrolog\\u00eda - SENAMHI\",\"Autoridad de Fiscalizaci\\u00f3n y Control de Pensiones y Seguros - APS\",\"Autoridad de Fiscalizaci\\u00f3n y Control Social de Bosques y Tierras - ABT\",\"Autoridad de Fiscalizaci\\u00f3n y Control Social de Agua Potable y Saneamiento B\\u00e1sico - AAPS\",\"Autoridad de Fiscalizaci\\u00f3n de Empresas - AEMP\",\"Autoridad Jurisdiccional Administrativa Minera - AJAM\",\"Agencia de Gobierno Electr\\u00f3nico y Tecnolog\\u00edas de la Informaci\\u00f3n y Comunicaci\\u00f3n - AGETIC\",\"Agencia Nacional de Hidrocarburos - ANH\",\"Seguro Social Universitario de Potos\\u00ed - SSUPTS\",\"Instituto Boliviano de Normalizacion y Calidad - IBNORCA\",\"Instituci\\u00f3n P\\u00fablica Desconcentrada de Pesca y Acuicultura \\u201cPACU\\u201d - PACU\",\"Tribunal Supremo de Justicia - TSJ\",\"Tribunal Agroambiental -\",\"Comit\\u00e9 Ejecutivo de la Universidad Boliviana - CEUB\",\"Seguro Social Universitario de Beni - SSUBENI\",\"Escuela Nacional de Salud - ENS\",\"Fondo Nacional de Desarrollo Regional - FNDR\",\"Entidad Ejecutora de Conversi\\u00f3n a Gas Natural Vehicular - EEC-GNV\",\"Servicio Nacional de Hidrograf\\u00eda Naval - SNHN\"],\"yaxis\":\"y\",\"type\":\"bar\",\"textfont\":{\"size\":12},\"cliponaxis\":false,\"textangle\":0}],                        {\"template\":{\"data\":{\"barpolar\":[{\"marker\":{\"line\":{\"color\":\"rgb(237,237,237)\",\"width\":0.5},\"pattern\":{\"fillmode\":\"overlay\",\"size\":10,\"solidity\":0.2}},\"type\":\"barpolar\"}],\"bar\":[{\"error_x\":{\"color\":\"rgb(51,51,51)\"},\"error_y\":{\"color\":\"rgb(51,51,51)\"},\"marker\":{\"line\":{\"color\":\"rgb(237,237,237)\",\"width\":0.5},\"pattern\":{\"fillmode\":\"overlay\",\"size\":10,\"solidity\":0.2}},\"type\":\"bar\"}],\"carpet\":[{\"aaxis\":{\"endlinecolor\":\"rgb(51,51,51)\",\"gridcolor\":\"white\",\"linecolor\":\"white\",\"minorgridcolor\":\"white\",\"startlinecolor\":\"rgb(51,51,51)\"},\"baxis\":{\"endlinecolor\":\"rgb(51,51,51)\",\"gridcolor\":\"white\",\"linecolor\":\"white\",\"minorgridcolor\":\"white\",\"startlinecolor\":\"rgb(51,51,51)\"},\"type\":\"carpet\"}],\"choropleth\":[{\"colorbar\":{\"outlinewidth\":0,\"tickcolor\":\"rgb(237,237,237)\",\"ticklen\":6,\"ticks\":\"inside\"},\"type\":\"choropleth\"}],\"contourcarpet\":[{\"colorbar\":{\"outlinewidth\":0,\"tickcolor\":\"rgb(237,237,237)\",\"ticklen\":6,\"ticks\":\"inside\"},\"type\":\"contourcarpet\"}],\"contour\":[{\"colorbar\":{\"outlinewidth\":0,\"tickcolor\":\"rgb(237,237,237)\",\"ticklen\":6,\"ticks\":\"inside\"},\"colorscale\":[[0,\"rgb(20,44,66)\"],[1,\"rgb(90,179,244)\"]],\"type\":\"contour\"}],\"heatmapgl\":[{\"colorbar\":{\"outlinewidth\":0,\"tickcolor\":\"rgb(237,237,237)\",\"ticklen\":6,\"ticks\":\"inside\"},\"colorscale\":[[0,\"rgb(20,44,66)\"],[1,\"rgb(90,179,244)\"]],\"type\":\"heatmapgl\"}],\"heatmap\":[{\"colorbar\":{\"outlinewidth\":0,\"tickcolor\":\"rgb(237,237,237)\",\"ticklen\":6,\"ticks\":\"inside\"},\"colorscale\":[[0,\"rgb(20,44,66)\"],[1,\"rgb(90,179,244)\"]],\"type\":\"heatmap\"}],\"histogram2dcontour\":[{\"colorbar\":{\"outlinewidth\":0,\"tickcolor\":\"rgb(237,237,237)\",\"ticklen\":6,\"ticks\":\"inside\"},\"colorscale\":[[0,\"rgb(20,44,66)\"],[1,\"rgb(90,179,244)\"]],\"type\":\"histogram2dcontour\"}],\"histogram2d\":[{\"colorbar\":{\"outlinewidth\":0,\"tickcolor\":\"rgb(237,237,237)\",\"ticklen\":6,\"ticks\":\"inside\"},\"colorscale\":[[0,\"rgb(20,44,66)\"],[1,\"rgb(90,179,244)\"]],\"type\":\"histogram2d\"}],\"histogram\":[{\"marker\":{\"pattern\":{\"fillmode\":\"overlay\",\"size\":10,\"solidity\":0.2}},\"type\":\"histogram\"}],\"mesh3d\":[{\"colorbar\":{\"outlinewidth\":0,\"tickcolor\":\"rgb(237,237,237)\",\"ticklen\":6,\"ticks\":\"inside\"},\"type\":\"mesh3d\"}],\"parcoords\":[{\"line\":{\"colorbar\":{\"outlinewidth\":0,\"tickcolor\":\"rgb(237,237,237)\",\"ticklen\":6,\"ticks\":\"inside\"}},\"type\":\"parcoords\"}],\"pie\":[{\"automargin\":true,\"type\":\"pie\"}],\"scatter3d\":[{\"line\":{\"colorbar\":{\"outlinewidth\":0,\"tickcolor\":\"rgb(237,237,237)\",\"ticklen\":6,\"ticks\":\"inside\"}},\"marker\":{\"colorbar\":{\"outlinewidth\":0,\"tickcolor\":\"rgb(237,237,237)\",\"ticklen\":6,\"ticks\":\"inside\"}},\"type\":\"scatter3d\"}],\"scattercarpet\":[{\"marker\":{\"colorbar\":{\"outlinewidth\":0,\"tickcolor\":\"rgb(237,237,237)\",\"ticklen\":6,\"ticks\":\"inside\"}},\"type\":\"scattercarpet\"}],\"scattergeo\":[{\"marker\":{\"colorbar\":{\"outlinewidth\":0,\"tickcolor\":\"rgb(237,237,237)\",\"ticklen\":6,\"ticks\":\"inside\"}},\"type\":\"scattergeo\"}],\"scattergl\":[{\"marker\":{\"colorbar\":{\"outlinewidth\":0,\"tickcolor\":\"rgb(237,237,237)\",\"ticklen\":6,\"ticks\":\"inside\"}},\"type\":\"scattergl\"}],\"scattermapbox\":[{\"marker\":{\"colorbar\":{\"outlinewidth\":0,\"tickcolor\":\"rgb(237,237,237)\",\"ticklen\":6,\"ticks\":\"inside\"}},\"type\":\"scattermapbox\"}],\"scatterpolargl\":[{\"marker\":{\"colorbar\":{\"outlinewidth\":0,\"tickcolor\":\"rgb(237,237,237)\",\"ticklen\":6,\"ticks\":\"inside\"}},\"type\":\"scatterpolargl\"}],\"scatterpolar\":[{\"marker\":{\"colorbar\":{\"outlinewidth\":0,\"tickcolor\":\"rgb(237,237,237)\",\"ticklen\":6,\"ticks\":\"inside\"}},\"type\":\"scatterpolar\"}],\"scatter\":[{\"fillpattern\":{\"fillmode\":\"overlay\",\"size\":10,\"solidity\":0.2},\"type\":\"scatter\"}],\"scatterternary\":[{\"marker\":{\"colorbar\":{\"outlinewidth\":0,\"tickcolor\":\"rgb(237,237,237)\",\"ticklen\":6,\"ticks\":\"inside\"}},\"type\":\"scatterternary\"}],\"surface\":[{\"colorbar\":{\"outlinewidth\":0,\"tickcolor\":\"rgb(237,237,237)\",\"ticklen\":6,\"ticks\":\"inside\"},\"colorscale\":[[0,\"rgb(20,44,66)\"],[1,\"rgb(90,179,244)\"]],\"type\":\"surface\"}],\"table\":[{\"cells\":{\"fill\":{\"color\":\"rgb(237,237,237)\"},\"line\":{\"color\":\"white\"}},\"header\":{\"fill\":{\"color\":\"rgb(217,217,217)\"},\"line\":{\"color\":\"white\"}},\"type\":\"table\"}]},\"layout\":{\"annotationdefaults\":{\"arrowhead\":0,\"arrowwidth\":1},\"autotypenumbers\":\"strict\",\"coloraxis\":{\"colorbar\":{\"outlinewidth\":0,\"tickcolor\":\"rgb(237,237,237)\",\"ticklen\":6,\"ticks\":\"inside\"}},\"colorscale\":{\"sequential\":[[0,\"rgb(20,44,66)\"],[1,\"rgb(90,179,244)\"]],\"sequentialminus\":[[0,\"rgb(20,44,66)\"],[1,\"rgb(90,179,244)\"]]},\"colorway\":[\"#F8766D\",\"#A3A500\",\"#00BF7D\",\"#00B0F6\",\"#E76BF3\"],\"font\":{\"color\":\"rgb(51,51,51)\"},\"geo\":{\"bgcolor\":\"white\",\"lakecolor\":\"white\",\"landcolor\":\"rgb(237,237,237)\",\"showlakes\":true,\"showland\":true,\"subunitcolor\":\"white\"},\"hoverlabel\":{\"align\":\"left\"},\"hovermode\":\"closest\",\"paper_bgcolor\":\"white\",\"plot_bgcolor\":\"rgb(237,237,237)\",\"polar\":{\"angularaxis\":{\"gridcolor\":\"white\",\"linecolor\":\"white\",\"showgrid\":true,\"tickcolor\":\"rgb(51,51,51)\",\"ticks\":\"outside\"},\"bgcolor\":\"rgb(237,237,237)\",\"radialaxis\":{\"gridcolor\":\"white\",\"linecolor\":\"white\",\"showgrid\":true,\"tickcolor\":\"rgb(51,51,51)\",\"ticks\":\"outside\"}},\"scene\":{\"xaxis\":{\"backgroundcolor\":\"rgb(237,237,237)\",\"gridcolor\":\"white\",\"gridwidth\":2,\"linecolor\":\"white\",\"showbackground\":true,\"showgrid\":true,\"tickcolor\":\"rgb(51,51,51)\",\"ticks\":\"outside\",\"zerolinecolor\":\"white\"},\"yaxis\":{\"backgroundcolor\":\"rgb(237,237,237)\",\"gridcolor\":\"white\",\"gridwidth\":2,\"linecolor\":\"white\",\"showbackground\":true,\"showgrid\":true,\"tickcolor\":\"rgb(51,51,51)\",\"ticks\":\"outside\",\"zerolinecolor\":\"white\"},\"zaxis\":{\"backgroundcolor\":\"rgb(237,237,237)\",\"gridcolor\":\"white\",\"gridwidth\":2,\"linecolor\":\"white\",\"showbackground\":true,\"showgrid\":true,\"tickcolor\":\"rgb(51,51,51)\",\"ticks\":\"outside\",\"zerolinecolor\":\"white\"}},\"shapedefaults\":{\"fillcolor\":\"black\",\"line\":{\"width\":0},\"opacity\":0.3},\"ternary\":{\"aaxis\":{\"gridcolor\":\"white\",\"linecolor\":\"white\",\"showgrid\":true,\"tickcolor\":\"rgb(51,51,51)\",\"ticks\":\"outside\"},\"baxis\":{\"gridcolor\":\"white\",\"linecolor\":\"white\",\"showgrid\":true,\"tickcolor\":\"rgb(51,51,51)\",\"ticks\":\"outside\"},\"bgcolor\":\"rgb(237,237,237)\",\"caxis\":{\"gridcolor\":\"white\",\"linecolor\":\"white\",\"showgrid\":true,\"tickcolor\":\"rgb(51,51,51)\",\"ticks\":\"outside\"}},\"xaxis\":{\"automargin\":true,\"gridcolor\":\"white\",\"linecolor\":\"white\",\"showgrid\":true,\"tickcolor\":\"rgb(51,51,51)\",\"ticks\":\"outside\",\"title\":{\"standoff\":15},\"zerolinecolor\":\"white\"},\"yaxis\":{\"automargin\":true,\"gridcolor\":\"white\",\"linecolor\":\"white\",\"showgrid\":true,\"tickcolor\":\"rgb(51,51,51)\",\"ticks\":\"outside\",\"title\":{\"standoff\":15},\"zerolinecolor\":\"white\"}}},\"xaxis\":{\"anchor\":\"y\",\"domain\":[0.0,1.0],\"title\":{\"text\":\"Tr\\u00e1mites\"}},\"yaxis\":{\"anchor\":\"x\",\"domain\":[0.0,1.0],\"title\":{\"text\":\"Instituci\\u00f3n\"}},\"coloraxis\":{\"colorbar\":{\"title\":{\"text\":\"color\"}},\"colorscale\":[[0.0,\"rgb(20,44,66)\"],[1.0,\"rgb(90,179,244)\"]],\"showscale\":false},\"legend\":{\"tracegroupgap\":0},\"title\":{\"text\":\"Instituciones estatales con menos tr\\u00e1mites\"},\"barmode\":\"relative\",\"height\":620,\"plot_bgcolor\":\"rgba(0,0,0,0)\"},                        {\"responsive\": true}                    ).then(function(){\n",
       "                            \n",
       "var gd = document.getElementById('5d7497aa-61cf-43ca-9c3f-1e53598148d4');\n",
       "var x = new MutationObserver(function (mutations, observer) {{\n",
       "        var display = window.getComputedStyle(gd).display;\n",
       "        if (!display || display === 'none') {{\n",
       "            console.log([gd, 'removed!']);\n",
       "            Plotly.purge(gd);\n",
       "            observer.disconnect();\n",
       "        }}\n",
       "}});\n",
       "\n",
       "// Listen for the removal of the full notebook cells\n",
       "var notebookContainer = gd.closest('#notebook-container');\n",
       "if (notebookContainer) {{\n",
       "    x.observe(notebookContainer, {childList: true});\n",
       "}}\n",
       "\n",
       "// Listen for the clearing of the current output cell\n",
       "var outputEl = gd.closest('.output');\n",
       "if (outputEl) {{\n",
       "    x.observe(outputEl, {childList: true});\n",
       "}}\n",
       "\n",
       "                        })                };                });            </script>        </div>"
      ]
     },
     "metadata": {},
     "output_type": "display_data"
    }
   ],
   "source": [
    "serie = df.groupby('institucion').count()['titulo'].sort_values(ascending=True)\n",
    "n_samples = int(len(serie)*0.3)\n",
    "\n",
    "fig = px.bar(y=serie[:n_samples].index, x=serie[:n_samples].values,  color=serie[:n_samples].values,\n",
    "             orientation='h',\n",
    "             text_auto=True,\n",
    "                 height=620,\n",
    "             template='ggplot2',\n",
    "             title='Instituciones estatales con menos trámites')\n",
    "\n",
    "fig.update_traces(showlegend=False)\n",
    "fig.update_layout(coloraxis_showscale=False, )\n",
    "fig.update_layout(\n",
    "    yaxis_title=\"Institución\", xaxis_title=\"Trámites\",\n",
    ")\n",
    "fig.update_layout(\n",
    "        plot_bgcolor='rgba(0,0,0,0)'\n",
    ")\n",
    "\n",
    "#fig.update_yaxes(visible=False)\n",
    "fig.update_traces(textfont_size=12, textangle=0, textposition=\"outside\", cliponaxis=False)\n",
    "fig.show()\n"
   ]
  },
  {
   "cell_type": "code",
   "execution_count": 94,
   "id": "8fa58817-3ad8-4a8a-9be9-7fd36ffdb29d",
   "metadata": {},
   "outputs": [
    {
     "data": {
      "text/html": [
       "<div>\n",
       "<style scoped>\n",
       "    .dataframe tbody tr th:only-of-type {\n",
       "        vertical-align: middle;\n",
       "    }\n",
       "\n",
       "    .dataframe tbody tr th {\n",
       "        vertical-align: top;\n",
       "    }\n",
       "\n",
       "    .dataframe thead th {\n",
       "        text-align: right;\n",
       "    }\n",
       "</style>\n",
       "<table border=\"1\" class=\"dataframe\">\n",
       "  <thead>\n",
       "    <tr style=\"text-align: right;\">\n",
       "      <th></th>\n",
       "      <th>titulo</th>\n",
       "      <th>institucion</th>\n",
       "      <th>descripcion</th>\n",
       "      <th>contacto</th>\n",
       "      <th>web</th>\n",
       "      <th>es_presencial</th>\n",
       "      <th>es_en_linea</th>\n",
       "      <th>requisitos</th>\n",
       "      <th>procedimiento</th>\n",
       "      <th>num_ubicaciones</th>\n",
       "      <th>...</th>\n",
       "      <th>costo_formas</th>\n",
       "      <th>costo_conceptos</th>\n",
       "      <th>costo_ctas_bancarias</th>\n",
       "      <th>calificacion</th>\n",
       "      <th>url</th>\n",
       "      <th>categoria</th>\n",
       "      <th>duracion</th>\n",
       "      <th>marco_legal</th>\n",
       "      <th>costo_bancos</th>\n",
       "      <th>horarios_atencion</th>\n",
       "    </tr>\n",
       "  </thead>\n",
       "  <tbody>\n",
       "    <tr>\n",
       "      <th>1321</th>\n",
       "      <td>REGISTRO DE CIUDADANÍA DIGITAL.</td>\n",
       "      <td>Agencia de Gobierno Electrónico y Tecnologías ...</td>\n",
       "      <td>Brindar Identidad Digital a todos los Bolivian...</td>\n",
       "      <td>contacto@agetic.gob.bo</td>\n",
       "      <td>https://www.agetic.gob.bo</td>\n",
       "      <td>1</td>\n",
       "      <td>1</td>\n",
       "      <td>Cédula de Identidad se encuentra vigente. Para...</td>\n",
       "      <td>Antes de iniciar tu pre-registro asegurate de ...</td>\n",
       "      <td>1</td>\n",
       "      <td>...</td>\n",
       "      <td>NaN</td>\n",
       "      <td>NaN</td>\n",
       "      <td>NaN</td>\n",
       "      <td>3</td>\n",
       "      <td>https://www.gob.bo/tramite/2617</td>\n",
       "      <td>Identificación</td>\n",
       "      <td>10 minutos</td>\n",
       "      <td>Ley N° 1080, de Ciudadanía Digital y Lineamien...</td>\n",
       "      <td>NaN</td>\n",
       "      <td>08:30 - 12:30,14:30 - 18:30</td>\n",
       "    </tr>\n",
       "  </tbody>\n",
       "</table>\n",
       "<p>1 rows × 26 columns</p>\n",
       "</div>"
      ],
      "text/plain": [
       "                               titulo  \\\n",
       "1321  REGISTRO DE CIUDADANÍA DIGITAL.   \n",
       "\n",
       "                                            institucion  \\\n",
       "1321  Agencia de Gobierno Electrónico y Tecnologías ...   \n",
       "\n",
       "                                            descripcion  \\\n",
       "1321  Brindar Identidad Digital a todos los Bolivian...   \n",
       "\n",
       "                    contacto                        web  es_presencial  \\\n",
       "1321  contacto@agetic.gob.bo  https://www.agetic.gob.bo              1   \n",
       "\n",
       "      es_en_linea                                         requisitos  \\\n",
       "1321            1  Cédula de Identidad se encuentra vigente. Para...   \n",
       "\n",
       "                                          procedimiento  num_ubicaciones  ...  \\\n",
       "1321  Antes de iniciar tu pre-registro asegurate de ...                1  ...   \n",
       "\n",
       "     costo_formas costo_conceptos costo_ctas_bancarias calificacion  \\\n",
       "1321          NaN             NaN                  NaN            3   \n",
       "\n",
       "                                  url       categoria    duracion  \\\n",
       "1321  https://www.gob.bo/tramite/2617  Identificación  10 minutos   \n",
       "\n",
       "                                            marco_legal costo_bancos  \\\n",
       "1321  Ley N° 1080, de Ciudadanía Digital y Lineamien...          NaN   \n",
       "\n",
       "                horarios_atencion  \n",
       "1321  08:30 - 12:30,14:30 - 18:30  \n",
       "\n",
       "[1 rows x 26 columns]"
      ]
     },
     "execution_count": 94,
     "metadata": {},
     "output_type": "execute_result"
    }
   ],
   "source": [
    "df[df['institucion']=='Agencia de Gobierno Electrónico y Tecnologías de la Información y Comunicación - AGETIC']"
   ]
  },
  {
   "cell_type": "code",
   "execution_count": null,
   "id": "f668c710-c7c8-4c95-86f3-92eac0cb5453",
   "metadata": {},
   "outputs": [],
   "source": []
  }
 ],
 "metadata": {
  "kernelspec": {
   "display_name": "Python 3 (ipykernel)",
   "language": "python",
   "name": "python3"
  },
  "language_info": {
   "codemirror_mode": {
    "name": "ipython",
    "version": 3
   },
   "file_extension": ".py",
   "mimetype": "text/x-python",
   "name": "python",
   "nbconvert_exporter": "python",
   "pygments_lexer": "ipython3",
   "version": "3.12.4"
  }
 },
 "nbformat": 4,
 "nbformat_minor": 5
}
